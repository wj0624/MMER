{
 "cells": [
  {
   "cell_type": "code",
   "execution_count": 7,
   "id": "2506de55",
   "metadata": {},
   "outputs": [],
   "source": [
    "import os\n",
    "\n",
    "#폴더 생성\n",
    "if not os.path.isdir('./test_txt'):\n",
    "    os.mkdir(\"test_txt\")"
   ]
  },
  {
   "cell_type": "code",
   "execution_count": 11,
   "id": "4dcf6e5e",
   "metadata": {},
   "outputs": [
    {
     "name": "stdout",
     "output_type": "stream",
     "text": [
      "txt파일 생성이 완료됐습니다\n"
     ]
    }
   ],
   "source": [
    "import csv\n",
    "import itertools\n",
    "\n",
    "f = open('Script.csv', 'r')\n",
    "rdr = csv.reader(f)\n",
    "f.seek(0)\n",
    "output = []\n",
    "num = 1\n",
    "\n",
    "for i in rdr:\n",
    "    output.append(i)\n",
    "\n",
    "output = list(itertools.chain(*output))\n",
    "\n",
    "for line in output:\n",
    "    num_str=str(num)\n",
    "    if line.startswith('[') :\n",
    "        line = line.strip(\"[\"\"]\")\n",
    "        f = open('./test_txt/'+num_str+'.txt', 'w')\n",
    "        f.write(line)\n",
    "        f.close()\n",
    "        num += 1\n",
    "else:\n",
    "    print(\"txt파일 생성이 완료됐습니다\")"
   ]
  }
 ],
 "metadata": {
  "kernelspec": {
   "display_name": "Python 3 (ipykernel)",
   "language": "python",
   "name": "python3"
  },
  "language_info": {
   "codemirror_mode": {
    "name": "ipython",
    "version": 3
   },
   "file_extension": ".py",
   "mimetype": "text/x-python",
   "name": "python",
   "nbconvert_exporter": "python",
   "pygments_lexer": "ipython3",
   "version": "3.9.7"
  }
 },
 "nbformat": 4,
 "nbformat_minor": 5
}
