{
 "cells": [
  {
   "cell_type": "code",
   "execution_count": 1,
   "id": "abf89ca9",
   "metadata": {
    "scrolled": false
   },
   "outputs": [],
   "source": [
    "import cv2\n",
    "import mediapipe as mp\n",
    "import numpy as np\n",
    "import torch\n",
    "from deepface import DeepFace\n",
    "import os\n",
    "import torch\n",
    "from torch import nn\n",
    "from torch.utils.data import DataLoader\n",
    "from torchvision import datasets, transforms\n",
    "from PIL import Image\n",
    "\n",
    "emotion = [ \"angry\", \"disgust\", \"fear\", \"happy\", \"neutral\", \"sad\",\"surprise\"]\n",
    "seq_length = 30\n",
    "\n",
    "from efficientnet_pytorch import EfficientNet\n",
    "model_name = 'efficientnet-b0'  # b5"
   ]
  },
  {
   "cell_type": "code",
   "execution_count": 2,
   "id": "f85e8626",
   "metadata": {
    "scrolled": true
   },
   "outputs": [
    {
     "name": "stdout",
     "output_type": "stream",
     "text": [
      "Loaded pretrained weights for efficientnet-b0\n"
     ]
    },
    {
     "data": {
      "text/plain": [
       "EfficientNet(\n",
       "  (_conv_stem): Conv2dStaticSamePadding(\n",
       "    3, 32, kernel_size=(3, 3), stride=(2, 2), bias=False\n",
       "    (static_padding): ZeroPad2d((0, 1, 0, 1))\n",
       "  )\n",
       "  (_bn0): BatchNorm2d(32, eps=0.001, momentum=0.010000000000000009, affine=True, track_running_stats=True)\n",
       "  (_blocks): ModuleList(\n",
       "    (0): MBConvBlock(\n",
       "      (_depthwise_conv): Conv2dStaticSamePadding(\n",
       "        32, 32, kernel_size=(3, 3), stride=[1, 1], groups=32, bias=False\n",
       "        (static_padding): ZeroPad2d((1, 1, 1, 1))\n",
       "      )\n",
       "      (_bn1): BatchNorm2d(32, eps=0.001, momentum=0.010000000000000009, affine=True, track_running_stats=True)\n",
       "      (_se_reduce): Conv2dStaticSamePadding(\n",
       "        32, 8, kernel_size=(1, 1), stride=(1, 1)\n",
       "        (static_padding): Identity()\n",
       "      )\n",
       "      (_se_expand): Conv2dStaticSamePadding(\n",
       "        8, 32, kernel_size=(1, 1), stride=(1, 1)\n",
       "        (static_padding): Identity()\n",
       "      )\n",
       "      (_project_conv): Conv2dStaticSamePadding(\n",
       "        32, 16, kernel_size=(1, 1), stride=(1, 1), bias=False\n",
       "        (static_padding): Identity()\n",
       "      )\n",
       "      (_bn2): BatchNorm2d(16, eps=0.001, momentum=0.010000000000000009, affine=True, track_running_stats=True)\n",
       "      (_swish): MemoryEfficientSwish()\n",
       "    )\n",
       "    (1): MBConvBlock(\n",
       "      (_expand_conv): Conv2dStaticSamePadding(\n",
       "        16, 96, kernel_size=(1, 1), stride=(1, 1), bias=False\n",
       "        (static_padding): Identity()\n",
       "      )\n",
       "      (_bn0): BatchNorm2d(96, eps=0.001, momentum=0.010000000000000009, affine=True, track_running_stats=True)\n",
       "      (_depthwise_conv): Conv2dStaticSamePadding(\n",
       "        96, 96, kernel_size=(3, 3), stride=[2, 2], groups=96, bias=False\n",
       "        (static_padding): ZeroPad2d((0, 1, 0, 1))\n",
       "      )\n",
       "      (_bn1): BatchNorm2d(96, eps=0.001, momentum=0.010000000000000009, affine=True, track_running_stats=True)\n",
       "      (_se_reduce): Conv2dStaticSamePadding(\n",
       "        96, 4, kernel_size=(1, 1), stride=(1, 1)\n",
       "        (static_padding): Identity()\n",
       "      )\n",
       "      (_se_expand): Conv2dStaticSamePadding(\n",
       "        4, 96, kernel_size=(1, 1), stride=(1, 1)\n",
       "        (static_padding): Identity()\n",
       "      )\n",
       "      (_project_conv): Conv2dStaticSamePadding(\n",
       "        96, 24, kernel_size=(1, 1), stride=(1, 1), bias=False\n",
       "        (static_padding): Identity()\n",
       "      )\n",
       "      (_bn2): BatchNorm2d(24, eps=0.001, momentum=0.010000000000000009, affine=True, track_running_stats=True)\n",
       "      (_swish): MemoryEfficientSwish()\n",
       "    )\n",
       "    (2): MBConvBlock(\n",
       "      (_expand_conv): Conv2dStaticSamePadding(\n",
       "        24, 144, kernel_size=(1, 1), stride=(1, 1), bias=False\n",
       "        (static_padding): Identity()\n",
       "      )\n",
       "      (_bn0): BatchNorm2d(144, eps=0.001, momentum=0.010000000000000009, affine=True, track_running_stats=True)\n",
       "      (_depthwise_conv): Conv2dStaticSamePadding(\n",
       "        144, 144, kernel_size=(3, 3), stride=(1, 1), groups=144, bias=False\n",
       "        (static_padding): ZeroPad2d((1, 1, 1, 1))\n",
       "      )\n",
       "      (_bn1): BatchNorm2d(144, eps=0.001, momentum=0.010000000000000009, affine=True, track_running_stats=True)\n",
       "      (_se_reduce): Conv2dStaticSamePadding(\n",
       "        144, 6, kernel_size=(1, 1), stride=(1, 1)\n",
       "        (static_padding): Identity()\n",
       "      )\n",
       "      (_se_expand): Conv2dStaticSamePadding(\n",
       "        6, 144, kernel_size=(1, 1), stride=(1, 1)\n",
       "        (static_padding): Identity()\n",
       "      )\n",
       "      (_project_conv): Conv2dStaticSamePadding(\n",
       "        144, 24, kernel_size=(1, 1), stride=(1, 1), bias=False\n",
       "        (static_padding): Identity()\n",
       "      )\n",
       "      (_bn2): BatchNorm2d(24, eps=0.001, momentum=0.010000000000000009, affine=True, track_running_stats=True)\n",
       "      (_swish): MemoryEfficientSwish()\n",
       "    )\n",
       "    (3): MBConvBlock(\n",
       "      (_expand_conv): Conv2dStaticSamePadding(\n",
       "        24, 144, kernel_size=(1, 1), stride=(1, 1), bias=False\n",
       "        (static_padding): Identity()\n",
       "      )\n",
       "      (_bn0): BatchNorm2d(144, eps=0.001, momentum=0.010000000000000009, affine=True, track_running_stats=True)\n",
       "      (_depthwise_conv): Conv2dStaticSamePadding(\n",
       "        144, 144, kernel_size=(5, 5), stride=[2, 2], groups=144, bias=False\n",
       "        (static_padding): ZeroPad2d((1, 2, 1, 2))\n",
       "      )\n",
       "      (_bn1): BatchNorm2d(144, eps=0.001, momentum=0.010000000000000009, affine=True, track_running_stats=True)\n",
       "      (_se_reduce): Conv2dStaticSamePadding(\n",
       "        144, 6, kernel_size=(1, 1), stride=(1, 1)\n",
       "        (static_padding): Identity()\n",
       "      )\n",
       "      (_se_expand): Conv2dStaticSamePadding(\n",
       "        6, 144, kernel_size=(1, 1), stride=(1, 1)\n",
       "        (static_padding): Identity()\n",
       "      )\n",
       "      (_project_conv): Conv2dStaticSamePadding(\n",
       "        144, 40, kernel_size=(1, 1), stride=(1, 1), bias=False\n",
       "        (static_padding): Identity()\n",
       "      )\n",
       "      (_bn2): BatchNorm2d(40, eps=0.001, momentum=0.010000000000000009, affine=True, track_running_stats=True)\n",
       "      (_swish): MemoryEfficientSwish()\n",
       "    )\n",
       "    (4): MBConvBlock(\n",
       "      (_expand_conv): Conv2dStaticSamePadding(\n",
       "        40, 240, kernel_size=(1, 1), stride=(1, 1), bias=False\n",
       "        (static_padding): Identity()\n",
       "      )\n",
       "      (_bn0): BatchNorm2d(240, eps=0.001, momentum=0.010000000000000009, affine=True, track_running_stats=True)\n",
       "      (_depthwise_conv): Conv2dStaticSamePadding(\n",
       "        240, 240, kernel_size=(5, 5), stride=(1, 1), groups=240, bias=False\n",
       "        (static_padding): ZeroPad2d((2, 2, 2, 2))\n",
       "      )\n",
       "      (_bn1): BatchNorm2d(240, eps=0.001, momentum=0.010000000000000009, affine=True, track_running_stats=True)\n",
       "      (_se_reduce): Conv2dStaticSamePadding(\n",
       "        240, 10, kernel_size=(1, 1), stride=(1, 1)\n",
       "        (static_padding): Identity()\n",
       "      )\n",
       "      (_se_expand): Conv2dStaticSamePadding(\n",
       "        10, 240, kernel_size=(1, 1), stride=(1, 1)\n",
       "        (static_padding): Identity()\n",
       "      )\n",
       "      (_project_conv): Conv2dStaticSamePadding(\n",
       "        240, 40, kernel_size=(1, 1), stride=(1, 1), bias=False\n",
       "        (static_padding): Identity()\n",
       "      )\n",
       "      (_bn2): BatchNorm2d(40, eps=0.001, momentum=0.010000000000000009, affine=True, track_running_stats=True)\n",
       "      (_swish): MemoryEfficientSwish()\n",
       "    )\n",
       "    (5): MBConvBlock(\n",
       "      (_expand_conv): Conv2dStaticSamePadding(\n",
       "        40, 240, kernel_size=(1, 1), stride=(1, 1), bias=False\n",
       "        (static_padding): Identity()\n",
       "      )\n",
       "      (_bn0): BatchNorm2d(240, eps=0.001, momentum=0.010000000000000009, affine=True, track_running_stats=True)\n",
       "      (_depthwise_conv): Conv2dStaticSamePadding(\n",
       "        240, 240, kernel_size=(3, 3), stride=[2, 2], groups=240, bias=False\n",
       "        (static_padding): ZeroPad2d((0, 1, 0, 1))\n",
       "      )\n",
       "      (_bn1): BatchNorm2d(240, eps=0.001, momentum=0.010000000000000009, affine=True, track_running_stats=True)\n",
       "      (_se_reduce): Conv2dStaticSamePadding(\n",
       "        240, 10, kernel_size=(1, 1), stride=(1, 1)\n",
       "        (static_padding): Identity()\n",
       "      )\n",
       "      (_se_expand): Conv2dStaticSamePadding(\n",
       "        10, 240, kernel_size=(1, 1), stride=(1, 1)\n",
       "        (static_padding): Identity()\n",
       "      )\n",
       "      (_project_conv): Conv2dStaticSamePadding(\n",
       "        240, 80, kernel_size=(1, 1), stride=(1, 1), bias=False\n",
       "        (static_padding): Identity()\n",
       "      )\n",
       "      (_bn2): BatchNorm2d(80, eps=0.001, momentum=0.010000000000000009, affine=True, track_running_stats=True)\n",
       "      (_swish): MemoryEfficientSwish()\n",
       "    )\n",
       "    (6-7): 2 x MBConvBlock(\n",
       "      (_expand_conv): Conv2dStaticSamePadding(\n",
       "        80, 480, kernel_size=(1, 1), stride=(1, 1), bias=False\n",
       "        (static_padding): Identity()\n",
       "      )\n",
       "      (_bn0): BatchNorm2d(480, eps=0.001, momentum=0.010000000000000009, affine=True, track_running_stats=True)\n",
       "      (_depthwise_conv): Conv2dStaticSamePadding(\n",
       "        480, 480, kernel_size=(3, 3), stride=(1, 1), groups=480, bias=False\n",
       "        (static_padding): ZeroPad2d((1, 1, 1, 1))\n",
       "      )\n",
       "      (_bn1): BatchNorm2d(480, eps=0.001, momentum=0.010000000000000009, affine=True, track_running_stats=True)\n",
       "      (_se_reduce): Conv2dStaticSamePadding(\n",
       "        480, 20, kernel_size=(1, 1), stride=(1, 1)\n",
       "        (static_padding): Identity()\n",
       "      )\n",
       "      (_se_expand): Conv2dStaticSamePadding(\n",
       "        20, 480, kernel_size=(1, 1), stride=(1, 1)\n",
       "        (static_padding): Identity()\n",
       "      )\n",
       "      (_project_conv): Conv2dStaticSamePadding(\n",
       "        480, 80, kernel_size=(1, 1), stride=(1, 1), bias=False\n",
       "        (static_padding): Identity()\n",
       "      )\n",
       "      (_bn2): BatchNorm2d(80, eps=0.001, momentum=0.010000000000000009, affine=True, track_running_stats=True)\n",
       "      (_swish): MemoryEfficientSwish()\n",
       "    )\n",
       "    (8): MBConvBlock(\n",
       "      (_expand_conv): Conv2dStaticSamePadding(\n",
       "        80, 480, kernel_size=(1, 1), stride=(1, 1), bias=False\n",
       "        (static_padding): Identity()\n",
       "      )\n",
       "      (_bn0): BatchNorm2d(480, eps=0.001, momentum=0.010000000000000009, affine=True, track_running_stats=True)\n",
       "      (_depthwise_conv): Conv2dStaticSamePadding(\n",
       "        480, 480, kernel_size=(5, 5), stride=[1, 1], groups=480, bias=False\n",
       "        (static_padding): ZeroPad2d((2, 2, 2, 2))\n",
       "      )\n",
       "      (_bn1): BatchNorm2d(480, eps=0.001, momentum=0.010000000000000009, affine=True, track_running_stats=True)\n",
       "      (_se_reduce): Conv2dStaticSamePadding(\n",
       "        480, 20, kernel_size=(1, 1), stride=(1, 1)\n",
       "        (static_padding): Identity()\n",
       "      )\n",
       "      (_se_expand): Conv2dStaticSamePadding(\n",
       "        20, 480, kernel_size=(1, 1), stride=(1, 1)\n",
       "        (static_padding): Identity()\n",
       "      )\n",
       "      (_project_conv): Conv2dStaticSamePadding(\n",
       "        480, 112, kernel_size=(1, 1), stride=(1, 1), bias=False\n",
       "        (static_padding): Identity()\n",
       "      )\n",
       "      (_bn2): BatchNorm2d(112, eps=0.001, momentum=0.010000000000000009, affine=True, track_running_stats=True)\n",
       "      (_swish): MemoryEfficientSwish()\n",
       "    )\n",
       "    (9-10): 2 x MBConvBlock(\n",
       "      (_expand_conv): Conv2dStaticSamePadding(\n",
       "        112, 672, kernel_size=(1, 1), stride=(1, 1), bias=False\n",
       "        (static_padding): Identity()\n",
       "      )\n",
       "      (_bn0): BatchNorm2d(672, eps=0.001, momentum=0.010000000000000009, affine=True, track_running_stats=True)\n",
       "      (_depthwise_conv): Conv2dStaticSamePadding(\n",
       "        672, 672, kernel_size=(5, 5), stride=(1, 1), groups=672, bias=False\n",
       "        (static_padding): ZeroPad2d((2, 2, 2, 2))\n",
       "      )\n",
       "      (_bn1): BatchNorm2d(672, eps=0.001, momentum=0.010000000000000009, affine=True, track_running_stats=True)\n",
       "      (_se_reduce): Conv2dStaticSamePadding(\n",
       "        672, 28, kernel_size=(1, 1), stride=(1, 1)\n",
       "        (static_padding): Identity()\n",
       "      )\n",
       "      (_se_expand): Conv2dStaticSamePadding(\n",
       "        28, 672, kernel_size=(1, 1), stride=(1, 1)\n",
       "        (static_padding): Identity()\n",
       "      )\n",
       "      (_project_conv): Conv2dStaticSamePadding(\n",
       "        672, 112, kernel_size=(1, 1), stride=(1, 1), bias=False\n",
       "        (static_padding): Identity()\n",
       "      )\n",
       "      (_bn2): BatchNorm2d(112, eps=0.001, momentum=0.010000000000000009, affine=True, track_running_stats=True)\n",
       "      (_swish): MemoryEfficientSwish()\n",
       "    )\n",
       "    (11): MBConvBlock(\n",
       "      (_expand_conv): Conv2dStaticSamePadding(\n",
       "        112, 672, kernel_size=(1, 1), stride=(1, 1), bias=False\n",
       "        (static_padding): Identity()\n",
       "      )\n",
       "      (_bn0): BatchNorm2d(672, eps=0.001, momentum=0.010000000000000009, affine=True, track_running_stats=True)\n",
       "      (_depthwise_conv): Conv2dStaticSamePadding(\n",
       "        672, 672, kernel_size=(5, 5), stride=[2, 2], groups=672, bias=False\n",
       "        (static_padding): ZeroPad2d((1, 2, 1, 2))\n",
       "      )\n",
       "      (_bn1): BatchNorm2d(672, eps=0.001, momentum=0.010000000000000009, affine=True, track_running_stats=True)\n",
       "      (_se_reduce): Conv2dStaticSamePadding(\n",
       "        672, 28, kernel_size=(1, 1), stride=(1, 1)\n",
       "        (static_padding): Identity()\n",
       "      )\n",
       "      (_se_expand): Conv2dStaticSamePadding(\n",
       "        28, 672, kernel_size=(1, 1), stride=(1, 1)\n",
       "        (static_padding): Identity()\n",
       "      )\n",
       "      (_project_conv): Conv2dStaticSamePadding(\n",
       "        672, 192, kernel_size=(1, 1), stride=(1, 1), bias=False\n",
       "        (static_padding): Identity()\n",
       "      )\n",
       "      (_bn2): BatchNorm2d(192, eps=0.001, momentum=0.010000000000000009, affine=True, track_running_stats=True)\n",
       "      (_swish): MemoryEfficientSwish()\n",
       "    )\n",
       "    (12-14): 3 x MBConvBlock(\n",
       "      (_expand_conv): Conv2dStaticSamePadding(\n",
       "        192, 1152, kernel_size=(1, 1), stride=(1, 1), bias=False\n",
       "        (static_padding): Identity()\n",
       "      )\n",
       "      (_bn0): BatchNorm2d(1152, eps=0.001, momentum=0.010000000000000009, affine=True, track_running_stats=True)\n",
       "      (_depthwise_conv): Conv2dStaticSamePadding(\n",
       "        1152, 1152, kernel_size=(5, 5), stride=(1, 1), groups=1152, bias=False\n",
       "        (static_padding): ZeroPad2d((2, 2, 2, 2))\n",
       "      )\n",
       "      (_bn1): BatchNorm2d(1152, eps=0.001, momentum=0.010000000000000009, affine=True, track_running_stats=True)\n",
       "      (_se_reduce): Conv2dStaticSamePadding(\n",
       "        1152, 48, kernel_size=(1, 1), stride=(1, 1)\n",
       "        (static_padding): Identity()\n",
       "      )\n",
       "      (_se_expand): Conv2dStaticSamePadding(\n",
       "        48, 1152, kernel_size=(1, 1), stride=(1, 1)\n",
       "        (static_padding): Identity()\n",
       "      )\n",
       "      (_project_conv): Conv2dStaticSamePadding(\n",
       "        1152, 192, kernel_size=(1, 1), stride=(1, 1), bias=False\n",
       "        (static_padding): Identity()\n",
       "      )\n",
       "      (_bn2): BatchNorm2d(192, eps=0.001, momentum=0.010000000000000009, affine=True, track_running_stats=True)\n",
       "      (_swish): MemoryEfficientSwish()\n",
       "    )\n",
       "    (15): MBConvBlock(\n",
       "      (_expand_conv): Conv2dStaticSamePadding(\n",
       "        192, 1152, kernel_size=(1, 1), stride=(1, 1), bias=False\n",
       "        (static_padding): Identity()\n",
       "      )\n",
       "      (_bn0): BatchNorm2d(1152, eps=0.001, momentum=0.010000000000000009, affine=True, track_running_stats=True)\n",
       "      (_depthwise_conv): Conv2dStaticSamePadding(\n",
       "        1152, 1152, kernel_size=(3, 3), stride=[1, 1], groups=1152, bias=False\n",
       "        (static_padding): ZeroPad2d((1, 1, 1, 1))\n",
       "      )\n",
       "      (_bn1): BatchNorm2d(1152, eps=0.001, momentum=0.010000000000000009, affine=True, track_running_stats=True)\n",
       "      (_se_reduce): Conv2dStaticSamePadding(\n",
       "        1152, 48, kernel_size=(1, 1), stride=(1, 1)\n",
       "        (static_padding): Identity()\n",
       "      )\n",
       "      (_se_expand): Conv2dStaticSamePadding(\n",
       "        48, 1152, kernel_size=(1, 1), stride=(1, 1)\n",
       "        (static_padding): Identity()\n",
       "      )\n",
       "      (_project_conv): Conv2dStaticSamePadding(\n",
       "        1152, 320, kernel_size=(1, 1), stride=(1, 1), bias=False\n",
       "        (static_padding): Identity()\n",
       "      )\n",
       "      (_bn2): BatchNorm2d(320, eps=0.001, momentum=0.010000000000000009, affine=True, track_running_stats=True)\n",
       "      (_swish): MemoryEfficientSwish()\n",
       "    )\n",
       "  )\n",
       "  (_conv_head): Conv2dStaticSamePadding(\n",
       "    320, 1280, kernel_size=(1, 1), stride=(1, 1), bias=False\n",
       "    (static_padding): Identity()\n",
       "  )\n",
       "  (_bn1): BatchNorm2d(1280, eps=0.001, momentum=0.010000000000000009, affine=True, track_running_stats=True)\n",
       "  (_avg_pooling): AdaptiveAvgPool2d(output_size=1)\n",
       "  (_dropout): Dropout(p=0.2, inplace=False)\n",
       "  (_fc): Linear(in_features=1280, out_features=7, bias=True)\n",
       "  (_swish): MemoryEfficientSwish()\n",
       ")"
      ]
     },
     "execution_count": 2,
     "metadata": {},
     "output_type": "execute_result"
    }
   ],
   "source": [
    "# 모델 불러오기\n",
    "\n",
    "device = torch.device(\"cuda:0\" if torch.cuda.is_available() else \"cpu\")  # set gpu\n",
    "\n",
    "model = EfficientNet.from_pretrained(model_name, num_classes=7)\n",
    "model = model.to(device)\n",
    "\n",
    "model.load_state_dict(torch.load('C:/Users/LIM HAYOUNG//Desktop/efficientNet_PER7_0501.pt',map_location ='cpu'))\n",
    "model.eval()"
   ]
  },
  {
   "cell_type": "code",
   "execution_count": 202,
   "id": "7f16a91b",
   "metadata": {},
   "outputs": [],
   "source": [
    "# image = np.array(cv2.imread('C:/Users/LIM HAYOUNG/Desktop/097-hap-03_copy.jpg'))\n",
    "# image = cv2.resize(image, dsize=(224, 224),interpolation=cv2.INTER_LINEAR)\n",
    "# image_swap = np.swapaxes(image, 0,2)\n",
    "# image_swap = np.expand_dims(image_swap, axis=0)\n",
    "\n",
    "# print(image_swap)"
   ]
  },
  {
   "cell_type": "code",
   "execution_count": 3,
   "id": "c96a07c9",
   "metadata": {},
   "outputs": [],
   "source": [
    "def make_prediction(image):\n",
    "    \n",
    "    emotion = [ \"angry\", \"disgust\", \"fear\", \"happy\", \"neutral\", \"sad\",\"surprise\"]\n",
    "    \n",
    "    transfrom = transforms.Compose([\n",
    "                transforms.Resize((224, 224)),\n",
    "                transforms.ToTensor(),\n",
    "                transforms.Normalize(mean=[0.485, 0.456, 0.406], std=[0.229, 0.224, 0.225])\n",
    "                ])\n",
    "\n",
    "    tensor = torch.stack([transfrom(image)], dim=0)\n",
    "    outputs =model(tensor)\n",
    "    _, preds = torch.max(outputs, 1)\n",
    "    prob = {}\n",
    "    for i, em in enumerate(emotion)  :\n",
    "        prob[em] = torch.softmax(outputs, dim=1)[0, i].item()\n",
    "    return emotion[preds.item()],prob \n"
   ]
  },
  {
   "cell_type": "code",
   "execution_count": 4,
   "id": "7b87f65f",
   "metadata": {},
   "outputs": [
    {
     "data": {
      "text/html": [
       "<div>\n",
       "<style scoped>\n",
       "    .dataframe tbody tr th:only-of-type {\n",
       "        vertical-align: middle;\n",
       "    }\n",
       "\n",
       "    .dataframe tbody tr th {\n",
       "        vertical-align: top;\n",
       "    }\n",
       "\n",
       "    .dataframe thead th {\n",
       "        text-align: right;\n",
       "    }\n",
       "</style>\n",
       "<table border=\"1\" class=\"dataframe\">\n",
       "  <thead>\n",
       "    <tr style=\"text-align: right;\">\n",
       "      <th></th>\n",
       "      <th>file_name</th>\n",
       "      <th>frame</th>\n",
       "      <th>angry</th>\n",
       "      <th>disgust</th>\n",
       "      <th>fear</th>\n",
       "      <th>happy</th>\n",
       "      <th>neutral</th>\n",
       "      <th>sad</th>\n",
       "      <th>surprise</th>\n",
       "      <th>True</th>\n",
       "      <th>Pred</th>\n",
       "    </tr>\n",
       "  </thead>\n",
       "  <tbody>\n",
       "  </tbody>\n",
       "</table>\n",
       "</div>"
      ],
      "text/plain": [
       "Empty DataFrame\n",
       "Columns: [file_name, frame, angry, disgust, fear, happy, neutral, sad, surprise, True, Pred]\n",
       "Index: []"
      ]
     },
     "execution_count": 4,
     "metadata": {},
     "output_type": "execute_result"
    }
   ],
   "source": [
    "import pandas as pd\n",
    "\n",
    "result_df = pd.DataFrame(columns= ['file_name','frame','angry','disgust','fear','happy','neutral','sad','surprise','True','Pred'])\n",
    "result_df"
   ]
  },
  {
   "cell_type": "code",
   "execution_count": 24,
   "id": "efbb07b2",
   "metadata": {},
   "outputs": [
    {
     "data": {
      "text/html": [
       "<div>\n",
       "<style scoped>\n",
       "    .dataframe tbody tr th:only-of-type {\n",
       "        vertical-align: middle;\n",
       "    }\n",
       "\n",
       "    .dataframe tbody tr th {\n",
       "        vertical-align: top;\n",
       "    }\n",
       "\n",
       "    .dataframe thead th {\n",
       "        text-align: right;\n",
       "    }\n",
       "</style>\n",
       "<table border=\"1\" class=\"dataframe\">\n",
       "  <thead>\n",
       "    <tr style=\"text-align: right;\">\n",
       "      <th></th>\n",
       "      <th>file_name</th>\n",
       "      <th>frame</th>\n",
       "      <th>angry</th>\n",
       "      <th>disgust</th>\n",
       "      <th>fear</th>\n",
       "      <th>happy</th>\n",
       "      <th>neutral</th>\n",
       "      <th>sad</th>\n",
       "      <th>surprise</th>\n",
       "      <th>True</th>\n",
       "      <th>Pred</th>\n",
       "    </tr>\n",
       "  </thead>\n",
       "  <tbody>\n",
       "  </tbody>\n",
       "</table>\n",
       "</div>"
      ],
      "text/plain": [
       "Empty DataFrame\n",
       "Columns: [file_name, frame, angry, disgust, fear, happy, neutral, sad, surprise, True, Pred]\n",
       "Index: []"
      ]
     },
     "execution_count": 24,
     "metadata": {},
     "output_type": "execute_result"
    }
   ],
   "source": [
    "result_df"
   ]
  },
  {
   "cell_type": "code",
   "execution_count": null,
   "id": "70c50886",
   "metadata": {
    "scrolled": true
   },
   "outputs": [
    {
     "name": "stdout",
     "output_type": "stream",
     "text": [
      "Anger 시작\n",
      "Anger 완료 :372\n",
      "Disgust 시작\n",
      "Disgust 완료 :779\n",
      "Fear 시작\n",
      "Fear 완료 :1196\n",
      "Happiness 시작\n",
      "Happiness 완료 :1601\n",
      "Neutral 시작\n"
     ]
    }
   ],
   "source": [
    "# 동영상 파일 반복하기\n",
    "\n",
    "# 영상파일 경로\n",
    "video_path = 'C:/Users/LIM HAYOUNG/Desktop/aihub_emotion_dataset/video'\n",
    "\n",
    "# 얼굴을 찾고 찾은 얼굴에 표시를 해주기 위한 변수 정의\n",
    "mp_face_detection = mp.solutions.face_detection # 얼굴 검출을 위한 face_detection 모듈 사용\n",
    "mp_drawing = mp.solutions.drawing_utils # 얼굴 특징 그리기 위한 drawiong_utils 모듈 사용\n",
    "\n",
    "sec = 1\n",
    "for i in os.listdir(video_path) :\n",
    "    print(i+' 시작')\n",
    "    for j in os.listdir(video_path+'/'+i):\n",
    "        # 얼굴 검출 신뢰도 기준 : 0.7\n",
    "        cap = cv2.VideoCapture(video_path+'/'+i+'/'+j)\n",
    "        label_vec = []\n",
    "        with mp_face_detection.FaceDetection(model_selection=0, min_detection_confidence=0.7) as face_detection:\n",
    "            confidendt_emotion='0'\n",
    "            a =1\n",
    "            while cap.isOpened():\n",
    "                success, image = cap.read()\n",
    "\n",
    "                if not success:\n",
    "                    break\n",
    "\n",
    "                # To improve performance, optionally mark the image as not writeable to\n",
    "                # pass by reference.\n",
    "                image.flags.writeable = False\n",
    "                image = cv2.cvtColor(image, cv2.COLOR_BGR2RGB)\n",
    "                results = face_detection.process(image)\n",
    "\n",
    "                # Draw the face detection annotations on the image.\n",
    "                image.flags.writeable = True\n",
    "                image = cv2.cvtColor(image, cv2.COLOR_RGB2BGR)\n",
    "                if results.detections:\n",
    "                    for detection in results.detections:\n",
    "\n",
    "                        #mp_drawing.draw_detection(image, detection) # keypoints dot\n",
    "\n",
    "                        #gray_image = cv2.cvtColor(image,cv2.COLOR_BGR2GRAY)\n",
    "\n",
    "                        bbox = detection.location_data.relative_bounding_box\n",
    "                        h, w, _ = image.shape \n",
    "\n",
    "                        real_bbox = {\n",
    "                                'xmin':int(bbox.xmin * w),\n",
    "                                'ymin':int(bbox.ymin * h),\n",
    "                                'width':int(bbox.width * w),\n",
    "                                'height':int(bbox.height * h)\n",
    "                            }\n",
    "#                         cv2.rectangle(image,(real_bbox['xmin'],real_bbox['ymin']),(real_bbox['xmin']+real_bbox['width'],real_bbox['ymin']+real_bbox['height']),\n",
    "#                              (255,255,255),3)\n",
    "                    roi_frame = image[real_bbox['ymin']:real_bbox['ymin']+real_bbox['height'],real_bbox['xmin']:real_bbox['xmin']+real_bbox['width']]\n",
    "                    crop_image = Image.fromarray(roi_frame)\n",
    "                    \n",
    "            \n",
    "            \n",
    "#                     if a == 1 :\n",
    "#                         pred, prob = make_prediction(crop_image)\n",
    "#                         label = pred\n",
    "#                         conf = prob[max(prob,key=prob.get)]\n",
    "                    \n",
    "                    # 5 frame 씩 감정 예측\n",
    "                    if a % 5 == 0 :\n",
    "                        pred, prob = make_prediction(crop_image)\n",
    "                        label_vec.append(prob)\n",
    "                    \n",
    "                    # 30 frame(1초) 동안의 감정 예측 결과 신뢰도 평균 저장\n",
    "                    if a % 30 == 0 :\n",
    "                        angry = disgust = fear = happy = neutral = sad = surprise = 0\n",
    "\n",
    "                        for m in label_vec :\n",
    "                            angry += m['angry']\n",
    "                            disgust += m['disgust']\n",
    "                            fear += m['fear']\n",
    "                            happy += m['happy']\n",
    "                            neutral += m['neutral']\n",
    "                            sad += m['sad']\n",
    "                            surprise += m['surprise']\n",
    "\n",
    "\n",
    "                        aver ={}\n",
    "\n",
    "                        aver['angry'] = angry / len(label_vec)\n",
    "                        aver['disgust'] = disgust / len(label_vec)\n",
    "                        aver['fear'] = fear / len(label_vec)\n",
    "                        aver['happy'] = happy / len(label_vec)\n",
    "                        aver['neutral'] = neutral / len(label_vec)\n",
    "                        aver['sad'] = sad / len(label_vec)\n",
    "                        aver['surprise'] = surprise /len(label_vec)\n",
    "\n",
    "                        label = max(aver,key = aver.get)\n",
    "#                         conf = max(aver.values())\n",
    "#                         print('file_name : {} / emotion : {} / conf : {} '.format(j, label,str(conf)))\n",
    "#                         print(aver)\n",
    "                        result_df.loc[sec] = [j,a,aver['angry'],aver['disgust'],aver['fear'],aver['happy'],aver['neutral'],aver['sad'],aver['surprise'],i,label]\n",
    "#                         print(result_df)\n",
    "                        sec+=1\n",
    "                        label_vec = []\n",
    "\n",
    "        #         cv2.putText(image,\"{} : {}\".format(pred,prob[max(prob,key=prob.get)]),(real_bbox['xmin'],real_bbox['ymin']),font,1,(255,0,0),2)\n",
    "#                 cv2.putText(image,\"{} : {}\".format(label,conf),(real_bbox['xmin'],real_bbox['ymin']),font,1,(255,0,0),2)\n",
    "\n",
    "\n",
    "#                 cv2.imshow('MediaPipe Face Detection', cv2.resize(image, None, fx=0.5, fy =0.5))\n",
    "\n",
    "                a+=1\n",
    "                #if cv2.waitKey(5) & 0xFF == 27:\n",
    "                if cv2.waitKey(1) == ord('q'): # 'q' 누르면 정지\n",
    "                    break\n",
    "    \n",
    "    print(i + ' 완료 :'+ str(len(result_df)))\n",
    "    cap.release()\n",
    "    cv2.destroyAllWindows()"
   ]
  },
  {
   "cell_type": "code",
   "execution_count": 26,
   "id": "634cf435",
   "metadata": {},
   "outputs": [
    {
     "data": {
      "text/html": [
       "<div>\n",
       "<style scoped>\n",
       "    .dataframe tbody tr th:only-of-type {\n",
       "        vertical-align: middle;\n",
       "    }\n",
       "\n",
       "    .dataframe tbody tr th {\n",
       "        vertical-align: top;\n",
       "    }\n",
       "\n",
       "    .dataframe thead th {\n",
       "        text-align: right;\n",
       "    }\n",
       "</style>\n",
       "<table border=\"1\" class=\"dataframe\">\n",
       "  <thead>\n",
       "    <tr style=\"text-align: right;\">\n",
       "      <th></th>\n",
       "      <th>file_name</th>\n",
       "      <th>frame</th>\n",
       "      <th>angry</th>\n",
       "      <th>disgust</th>\n",
       "      <th>fear</th>\n",
       "      <th>happy</th>\n",
       "      <th>neutral</th>\n",
       "      <th>sad</th>\n",
       "      <th>surprise</th>\n",
       "      <th>True</th>\n",
       "      <th>Pred</th>\n",
       "    </tr>\n",
       "  </thead>\n",
       "  <tbody>\n",
       "    <tr>\n",
       "      <th>1</th>\n",
       "      <td>090-286.m2ts</td>\n",
       "      <td>30</td>\n",
       "      <td>0.107292</td>\n",
       "      <td>0.058354</td>\n",
       "      <td>0.179545</td>\n",
       "      <td>0.024308</td>\n",
       "      <td>0.0</td>\n",
       "      <td>0.043396</td>\n",
       "      <td>0.534569</td>\n",
       "      <td>Anger</td>\n",
       "      <td>surprise</td>\n",
       "    </tr>\n",
       "    <tr>\n",
       "      <th>2</th>\n",
       "      <td>090-286.m2ts</td>\n",
       "      <td>60</td>\n",
       "      <td>0.035383</td>\n",
       "      <td>0.032095</td>\n",
       "      <td>0.077364</td>\n",
       "      <td>0.003181</td>\n",
       "      <td>0.0</td>\n",
       "      <td>0.030438</td>\n",
       "      <td>0.811168</td>\n",
       "      <td>Anger</td>\n",
       "      <td>surprise</td>\n",
       "    </tr>\n",
       "    <tr>\n",
       "      <th>3</th>\n",
       "      <td>090-287.m2ts</td>\n",
       "      <td>30</td>\n",
       "      <td>0.138137</td>\n",
       "      <td>0.085682</td>\n",
       "      <td>0.167872</td>\n",
       "      <td>0.012595</td>\n",
       "      <td>0.0</td>\n",
       "      <td>0.049020</td>\n",
       "      <td>0.396021</td>\n",
       "      <td>Anger</td>\n",
       "      <td>surprise</td>\n",
       "    </tr>\n",
       "    <tr>\n",
       "      <th>4</th>\n",
       "      <td>090-287.m2ts</td>\n",
       "      <td>60</td>\n",
       "      <td>0.041227</td>\n",
       "      <td>0.020937</td>\n",
       "      <td>0.086595</td>\n",
       "      <td>0.004800</td>\n",
       "      <td>0.0</td>\n",
       "      <td>0.020691</td>\n",
       "      <td>0.812588</td>\n",
       "      <td>Anger</td>\n",
       "      <td>surprise</td>\n",
       "    </tr>\n",
       "    <tr>\n",
       "      <th>5</th>\n",
       "      <td>090-288.m2ts</td>\n",
       "      <td>30</td>\n",
       "      <td>0.039695</td>\n",
       "      <td>0.025813</td>\n",
       "      <td>0.157017</td>\n",
       "      <td>0.077174</td>\n",
       "      <td>0.0</td>\n",
       "      <td>0.038653</td>\n",
       "      <td>0.615350</td>\n",
       "      <td>Anger</td>\n",
       "      <td>surprise</td>\n",
       "    </tr>\n",
       "    <tr>\n",
       "      <th>...</th>\n",
       "      <td>...</td>\n",
       "      <td>...</td>\n",
       "      <td>...</td>\n",
       "      <td>...</td>\n",
       "      <td>...</td>\n",
       "      <td>...</td>\n",
       "      <td>...</td>\n",
       "      <td>...</td>\n",
       "      <td>...</td>\n",
       "      <td>...</td>\n",
       "      <td>...</td>\n",
       "    </tr>\n",
       "    <tr>\n",
       "      <th>368</th>\n",
       "      <td>099-284.m2ts</td>\n",
       "      <td>60</td>\n",
       "      <td>0.084443</td>\n",
       "      <td>0.313091</td>\n",
       "      <td>0.261697</td>\n",
       "      <td>0.002485</td>\n",
       "      <td>0.0</td>\n",
       "      <td>0.234683</td>\n",
       "      <td>0.102046</td>\n",
       "      <td>Anger</td>\n",
       "      <td>disgust</td>\n",
       "    </tr>\n",
       "    <tr>\n",
       "      <th>369</th>\n",
       "      <td>099-284.m2ts</td>\n",
       "      <td>90</td>\n",
       "      <td>0.025587</td>\n",
       "      <td>0.192026</td>\n",
       "      <td>0.354778</td>\n",
       "      <td>0.000745</td>\n",
       "      <td>0.0</td>\n",
       "      <td>0.316860</td>\n",
       "      <td>0.108854</td>\n",
       "      <td>Anger</td>\n",
       "      <td>fear</td>\n",
       "    </tr>\n",
       "    <tr>\n",
       "      <th>370</th>\n",
       "      <td>099-285.m2ts</td>\n",
       "      <td>30</td>\n",
       "      <td>0.122881</td>\n",
       "      <td>0.430638</td>\n",
       "      <td>0.183599</td>\n",
       "      <td>0.010865</td>\n",
       "      <td>0.0</td>\n",
       "      <td>0.206640</td>\n",
       "      <td>0.031408</td>\n",
       "      <td>Anger</td>\n",
       "      <td>disgust</td>\n",
       "    </tr>\n",
       "    <tr>\n",
       "      <th>371</th>\n",
       "      <td>099-285.m2ts</td>\n",
       "      <td>60</td>\n",
       "      <td>0.050858</td>\n",
       "      <td>0.295929</td>\n",
       "      <td>0.127029</td>\n",
       "      <td>0.019368</td>\n",
       "      <td>0.0</td>\n",
       "      <td>0.496545</td>\n",
       "      <td>0.006912</td>\n",
       "      <td>Anger</td>\n",
       "      <td>sad</td>\n",
       "    </tr>\n",
       "    <tr>\n",
       "      <th>372</th>\n",
       "      <td>099-285.m2ts</td>\n",
       "      <td>90</td>\n",
       "      <td>0.104673</td>\n",
       "      <td>0.444622</td>\n",
       "      <td>0.083348</td>\n",
       "      <td>0.017221</td>\n",
       "      <td>0.0</td>\n",
       "      <td>0.343650</td>\n",
       "      <td>0.006241</td>\n",
       "      <td>Anger</td>\n",
       "      <td>disgust</td>\n",
       "    </tr>\n",
       "  </tbody>\n",
       "</table>\n",
       "<p>372 rows × 11 columns</p>\n",
       "</div>"
      ],
      "text/plain": [
       "        file_name  frame     angry   disgust      fear     happy  neutral  \\\n",
       "1    090-286.m2ts     30  0.107292  0.058354  0.179545  0.024308      0.0   \n",
       "2    090-286.m2ts     60  0.035383  0.032095  0.077364  0.003181      0.0   \n",
       "3    090-287.m2ts     30  0.138137  0.085682  0.167872  0.012595      0.0   \n",
       "4    090-287.m2ts     60  0.041227  0.020937  0.086595  0.004800      0.0   \n",
       "5    090-288.m2ts     30  0.039695  0.025813  0.157017  0.077174      0.0   \n",
       "..            ...    ...       ...       ...       ...       ...      ...   \n",
       "368  099-284.m2ts     60  0.084443  0.313091  0.261697  0.002485      0.0   \n",
       "369  099-284.m2ts     90  0.025587  0.192026  0.354778  0.000745      0.0   \n",
       "370  099-285.m2ts     30  0.122881  0.430638  0.183599  0.010865      0.0   \n",
       "371  099-285.m2ts     60  0.050858  0.295929  0.127029  0.019368      0.0   \n",
       "372  099-285.m2ts     90  0.104673  0.444622  0.083348  0.017221      0.0   \n",
       "\n",
       "          sad  surprise   True      Pred  \n",
       "1    0.043396  0.534569  Anger  surprise  \n",
       "2    0.030438  0.811168  Anger  surprise  \n",
       "3    0.049020  0.396021  Anger  surprise  \n",
       "4    0.020691  0.812588  Anger  surprise  \n",
       "5    0.038653  0.615350  Anger  surprise  \n",
       "..        ...       ...    ...       ...  \n",
       "368  0.234683  0.102046  Anger   disgust  \n",
       "369  0.316860  0.108854  Anger      fear  \n",
       "370  0.206640  0.031408  Anger   disgust  \n",
       "371  0.496545  0.006912  Anger       sad  \n",
       "372  0.343650  0.006241  Anger   disgust  \n",
       "\n",
       "[372 rows x 11 columns]"
      ]
     },
     "execution_count": 26,
     "metadata": {},
     "output_type": "execute_result"
    }
   ],
   "source": [
    "result_df"
   ]
  },
  {
   "cell_type": "code",
   "execution_count": 9,
   "id": "bcc8d5ba",
   "metadata": {
    "scrolled": true
   },
   "outputs": [
    {
     "name": "stdout",
     "output_type": "stream",
     "text": [
      "emotion : surprise / conf : 0.4259236119687557 \n",
      "emotion : surprise / conf : 0.8124517699082693 \n"
     ]
    }
   ],
   "source": [
    "# 얼굴을 찾고 찾은 얼굴에 표시를 해주기 위한 변수 정의\n",
    "mp_face_detection = mp.solutions.face_detection # 얼굴 검출을 위한 face_detection 모듈 사용\n",
    "mp_drawing = mp.solutions.drawing_utils # 얼굴 특징 그리기 위한 drawiong_utils 모듈 사용\n",
    "\n",
    "\n",
    "# 동영상 파일 열기\n",
    "# cap = cv2.VideoCapture(0) # 웹캠에서 작업\n",
    "cap = cv2.VideoCapture('C:/Users/LIM HAYOUNG/Desktop/aihub_emotion_dataset/video/Anger/090-287.m2ts')\n",
    "\n",
    "# model_selection : 0(카메라로부터 2m 이내 근거리 영상) or 1(5m 이내 거리 영상)\n",
    "# min_detection_confidence : 얼굴 신뢰도 정도\n",
    "font=cv2.FONT_HERSHEY_SIMPLEX\n",
    "\n",
    "\n",
    "label_vec = []\n",
    "with mp_face_detection.FaceDetection(\n",
    "    model_selection=0, min_detection_confidence=0.7) as face_detection:\n",
    "    confidendt_emotion='0'\n",
    "    a =1\n",
    "    while cap.isOpened():\n",
    "        success, image = cap.read()\n",
    "        \n",
    "        if not success:\n",
    "\n",
    "            break\n",
    "\n",
    "        # To improve performance, optionally mark the image as not writeable to\n",
    "        # pass by reference.\n",
    "        image.flags.writeable = False\n",
    "        image = cv2.cvtColor(image, cv2.COLOR_BGR2RGB)\n",
    "        results = face_detection.process(image)\n",
    "\n",
    "        # Draw the face detection annotations on the image.\n",
    "        image.flags.writeable = True\n",
    "        image = cv2.cvtColor(image, cv2.COLOR_RGB2BGR)\n",
    "        if results.detections:\n",
    "            for detection in results.detections:\n",
    "\n",
    "                #mp_drawing.draw_detection(image, detection) # keypoints dot\n",
    "\n",
    "                #gray_image = cv2.cvtColor(image,cv2.COLOR_BGR2GRAY)\n",
    "\n",
    "                bbox = detection.location_data.relative_bounding_box\n",
    "                h, w, _ = image.shape \n",
    "\n",
    "                real_bbox = {\n",
    "                        'xmin':int(bbox.xmin * w),\n",
    "                        'ymin':int(bbox.ymin * h),\n",
    "                        'width':int(bbox.width * w),\n",
    "                        'height':int(bbox.height * h)\n",
    "                    }\n",
    "                cv2.rectangle(image,(real_bbox['xmin'],real_bbox['ymin']),(real_bbox['xmin']+real_bbox['width'],real_bbox['ymin']+real_bbox['height']),\n",
    "                     (255,255,255),3)\n",
    "            roi_frame = image[real_bbox['ymin']:real_bbox['ymin']+real_bbox['height'],real_bbox['xmin']:real_bbox['xmin']+real_bbox['width']]\n",
    "            crop_image = Image.fromarray(roi_frame)\n",
    "            if a == 1 :\n",
    "                pred, prob = make_prediction(crop_image)\n",
    "                label = pred\n",
    "                conf = prob[max(prob,key=prob.get)]\n",
    "                \n",
    "            if a % 5 == 0 :\n",
    "                pred, prob = make_prediction(crop_image)\n",
    "                label_vec.append(prob)\n",
    "#                 label = prob\n",
    "#                 if prob[max(prob,key=prob.get)]>50 :\n",
    "#                     confidendt_emotion = pred\n",
    "            if a % 30 == 0 :\n",
    "                angry = disgust = fear = happy = neutral = sad = surprise = 0\n",
    "                \n",
    "                for m in label_vec :\n",
    "                    angry += m['angry']\n",
    "                    disgust += m['disgust']\n",
    "                    fear += m['fear']\n",
    "                    happy += m['happy']\n",
    "                    sad += m['sad']\n",
    "                    surprise += m['surprise']\n",
    "                    \n",
    "                \n",
    "                aver ={}\n",
    "                \n",
    "                aver['angry'] = angry / len(label_vec)\n",
    "                aver['disgust'] = disgust / len(label_vec)\n",
    "                aver['fear'] = fear / len(label_vec)\n",
    "                aver['happy'] = happy / len(label_vec)\n",
    "                aver['neutral'] = neutral / len(label_vec)\n",
    "                aver['sad'] = sad / len(label_vec)\n",
    "                aver['surprise'] = surprise /len(label_vec)\n",
    "                \n",
    "                label = max(aver,key = aver.get)\n",
    "                conf = max(aver.values())\n",
    "                print('emotion : {} / conf : {} '.format(label,str(conf)))\n",
    "                label_vec = []\n",
    "                \n",
    "#         cv2.putText(image,\"{} : {}\".format(pred,prob[max(prob,key=prob.get)]),(real_bbox['xmin'],real_bbox['ymin']),font,1,(255,0,0),2)\n",
    "        cv2.putText(image,\"{} : {}\".format(label,conf),(real_bbox['xmin'],real_bbox['ymin']),font,1,(255,0,0),2)\n",
    "            \n",
    "             \n",
    "        cv2.imshow('MediaPipe Face Detection', cv2.resize(image, None, fx=0.5, fy =0.5))\n",
    "        \n",
    "        a+=1\n",
    "        #if cv2.waitKey(5) & 0xFF == 27:\n",
    "        if cv2.waitKey(1) == ord('q'): # 'q' 누르면 정지\n",
    "            break\n",
    "            \n",
    "cap.release()\n",
    "cv2.destroyAllWindows()"
   ]
  },
  {
   "cell_type": "code",
   "execution_count": 5,
   "id": "85cb9b8a",
   "metadata": {},
   "outputs": [
    {
     "data": {
      "text/plain": [
       "[]"
      ]
     },
     "execution_count": 5,
     "metadata": {},
     "output_type": "execute_result"
    }
   ],
   "source": [
    "label_vec"
   ]
  },
  {
   "cell_type": "code",
   "execution_count": null,
   "id": "cb562472",
   "metadata": {},
   "outputs": [],
   "source": [
    "tensor = torch.from_numpy(image_swap).type(torch.FloatTensor)\n",
    "outputs =model(tensor)\n",
    "_, preds = torch.max(outputs, 1)"
   ]
  },
  {
   "cell_type": "code",
   "execution_count": 25,
   "id": "99bd67aa",
   "metadata": {},
   "outputs": [],
   "source": [
    "font=cv2.FONT_HERSHEY_SIMPLEX"
   ]
  },
  {
   "cell_type": "code",
   "execution_count": 45,
   "id": "534197fa",
   "metadata": {},
   "outputs": [
    {
     "data": {
      "text/plain": [
       "{'angry': 0.0008303597569465637,\n",
       " 'disgust': 0.0009529745439067483,\n",
       " 'fear': 0.0024136321153491735,\n",
       " 'happy': 0.9868876338005066,\n",
       " 'neutral': 0.0003204102977178991,\n",
       " 'sad': 0.00847188662737608,\n",
       " 'surprise': 0.00012304358824621886}"
      ]
     },
     "execution_count": 45,
     "metadata": {},
     "output_type": "execute_result"
    }
   ],
   "source": [
    "prob"
   ]
  },
  {
   "cell_type": "code",
   "execution_count": 22,
   "id": "f48122e0",
   "metadata": {},
   "outputs": [
    {
     "data": {
      "text/plain": [
       "[('angry', 96.85723185539246),\n",
       " ('happy', 2.1006209775805473),\n",
       " ('neutral', 0.8104162290692329),\n",
       " ('sad', 0.2305970760062337),\n",
       " ('fear', 0.0010746959560492542),\n",
       " ('surprise', 6.0234776810830226e-05),\n",
       " ('disgust', 2.702072343652162e-06)]"
      ]
     },
     "execution_count": 22,
     "metadata": {},
     "output_type": "execute_result"
    }
   ],
   "source": [
    "sorted(deepface_pred[0]['emotion'].items(),key = lambda item: item[1],reverse = True)"
   ]
  },
  {
   "cell_type": "code",
   "execution_count": 87,
   "id": "62240504",
   "metadata": {},
   "outputs": [
    {
     "name": "stderr",
     "output_type": "stream",
     "text": [
      "Action: emotion: 100%|███████████████████████████████████████████████████████████████████| 1/1 [00:00<00:00, 11.80it/s]\n",
      "Action: emotion: 100%|███████████████████████████████████████████████████████████████████| 1/1 [00:00<00:00, 11.53it/s]\n"
     ]
    },
    {
     "name": "stdout",
     "output_type": "stream",
     "text": [
      "[{'emotion': {'angry': 12.266060709953308, 'disgust': 0.001594792956893798, 'fear': 1.1247393675148487, 'happy': 0.001494014486524975, 'sad': 43.88934373855591, 'surprise': 0.0002869443278541439, 'neutral': 42.71647930145264}, 'dominant_emotion': 'sad', 'region': {'x': 643, 'y': 213, 'w': 561, 'h': 561}}, {'emotion': {'angry': 1.6538159921765327, 'disgust': 5.62504975931688e-07, 'fear': 43.66461634635925, 'happy': 0.0001852071363828145, 'sad': 49.19450581073761, 'surprise': 0.0003847904736176133, 'neutral': 5.486489459872246}, 'dominant_emotion': 'sad', 'region': {'x': 743, 'y': 701, 'w': 296, 'h': 296}}]\n"
     ]
    },
    {
     "name": "stderr",
     "output_type": "stream",
     "text": [
      "Action: emotion: 100%|███████████████████████████████████████████████████████████████████| 1/1 [00:00<00:00, 10.67it/s]\n",
      "Action: emotion: 100%|███████████████████████████████████████████████████████████████████| 1/1 [00:00<00:00,  9.83it/s]\n"
     ]
    },
    {
     "name": "stdout",
     "output_type": "stream",
     "text": [
      "[{'emotion': {'angry': 1.3774873688817024, 'disgust': 1.9529732497858276e-06, 'fear': 51.93573236465454, 'happy': 0.0003260754510847619, 'sad': 44.845691323280334, 'surprise': 0.0005333989065547939, 'neutral': 1.8402330577373505}, 'dominant_emotion': 'fear', 'region': {'x': 748, 'y': 703, 'w': 294, 'h': 294}}, {'emotion': {'angry': 13.917149434429474, 'disgust': 0.0008444624557474681, 'fear': 0.8466361012594579, 'happy': 0.0004190750087864221, 'sad': 50.7904886257066, 'surprise': 0.00011736957241385917, 'neutral': 34.444336957414514}, 'dominant_emotion': 'sad', 'region': {'x': 640, 'y': 211, 'w': 566, 'h': 566}}]\n"
     ]
    },
    {
     "name": "stderr",
     "output_type": "stream",
     "text": [
      "Action: emotion: 100%|███████████████████████████████████████████████████████████████████| 1/1 [00:00<00:00,  7.27it/s]\n",
      "Action: emotion: 100%|███████████████████████████████████████████████████████████████████| 1/1 [00:00<00:00,  8.57it/s]\n"
     ]
    },
    {
     "name": "stdout",
     "output_type": "stream",
     "text": [
      "[{'emotion': {'angry': 0.8175944909453392, 'disgust': 1.0255497784328327e-06, 'fear': 36.110445857048035, 'happy': 0.00013391992297329125, 'sad': 61.321258544921875, 'surprise': 0.0002796128683257848, 'neutral': 1.7502892762422562}, 'dominant_emotion': 'sad', 'region': {'x': 746, 'y': 703, 'w': 295, 'h': 295}}, {'emotion': {'angry': 14.261262118816376, 'disgust': 0.0002587906010376173, 'fear': 3.9771202951669693, 'happy': 0.00015320132433771505, 'sad': 42.89442598819733, 'surprise': 0.0013466818018059712, 'neutral': 38.8654351234436}, 'dominant_emotion': 'sad', 'region': {'x': 639, 'y': 208, 'w': 569, 'h': 569}}]\n"
     ]
    },
    {
     "name": "stderr",
     "output_type": "stream",
     "text": [
      "Action: emotion: 100%|███████████████████████████████████████████████████████████████████| 1/1 [00:00<00:00, 10.55it/s]\n",
      "Action: emotion: 100%|███████████████████████████████████████████████████████████████████| 1/1 [00:00<00:00, 12.38it/s]\n"
     ]
    },
    {
     "name": "stdout",
     "output_type": "stream",
     "text": [
      "[{'emotion': {'angry': 0.919379255585626, 'disgust': 8.362201208081131e-07, 'fear': 37.29621990300536, 'happy': 0.0003706154750840649, 'sad': 58.48613729990347, 'surprise': 0.00037900003902736586, 'neutral': 3.2975128023334026}, 'dominant_emotion': 'sad', 'region': {'x': 747, 'y': 703, 'w': 293, 'h': 293}}, {'emotion': {'angry': 11.863090097904205, 'disgust': 0.016763497842475772, 'fear': 2.223575860261917, 'happy': 0.0018236971300211735, 'sad': 60.30067801475525, 'surprise': 0.010733304952736944, 'neutral': 25.583332777023315}, 'dominant_emotion': 'sad', 'region': {'x': 633, 'y': 208, 'w': 575, 'h': 575}}]\n"
     ]
    },
    {
     "name": "stderr",
     "output_type": "stream",
     "text": [
      "Action: emotion: 100%|███████████████████████████████████████████████████████████████████| 1/1 [00:00<00:00, 12.08it/s]\n",
      "Action: emotion: 100%|███████████████████████████████████████████████████████████████████| 1/1 [00:00<00:00, 11.27it/s]\n"
     ]
    },
    {
     "name": "stdout",
     "output_type": "stream",
     "text": [
      "[{'emotion': {'angry': 0.7371875975653412, 'disgust': 1.9004566319980299e-06, 'fear': 67.06763302473628, 'happy': 0.0006295149591898874, 'sad': 30.17984566928796, 'surprise': 0.001177277268372485, 'neutral': 2.013515999792099}, 'dominant_emotion': 'fear', 'region': {'x': 749, 'y': 706, 'w': 292, 'h': 292}}, {'emotion': {'angry': 14.428454637527466, 'disgust': 0.00217793040064862, 'fear': 2.067883498966694, 'happy': 0.0012111193427699618, 'sad': 46.694573760032654, 'surprise': 0.0013951095752418041, 'neutral': 36.804309487342834}, 'dominant_emotion': 'sad', 'region': {'x': 640, 'y': 210, 'w': 565, 'h': 565}}]\n"
     ]
    },
    {
     "name": "stderr",
     "output_type": "stream",
     "text": [
      "Action: emotion: 100%|███████████████████████████████████████████████████████████████████| 1/1 [00:00<00:00, 11.66it/s]\n",
      "Action: emotion: 100%|███████████████████████████████████████████████████████████████████| 1/1 [00:00<00:00, 10.13it/s]\n"
     ]
    },
    {
     "name": "stdout",
     "output_type": "stream",
     "text": [
      "[{'emotion': {'angry': 0.7783607114106417, 'disgust': 4.071736281474614e-07, 'fear': 29.906144738197327, 'happy': 0.00018454526298228302, 'sad': 66.598379611969, 'surprise': 0.00028250303785171127, 'neutral': 2.7166521176695824}, 'dominant_emotion': 'sad', 'region': {'x': 746, 'y': 704, 'w': 294, 'h': 294}}, {'emotion': {'angry': 7.5585944880730525, 'disgust': 0.0017395248250950336, 'fear': 0.8077064497522771, 'happy': 0.0004398114855148642, 'sad': 76.58699433958598, 'surprise': 0.0003929022554998624, 'neutral': 15.044128591522146}, 'dominant_emotion': 'sad', 'region': {'x': 637, 'y': 212, 'w': 566, 'h': 566}}]\n"
     ]
    },
    {
     "name": "stderr",
     "output_type": "stream",
     "text": [
      "Action: emotion: 100%|███████████████████████████████████████████████████████████████████| 1/1 [00:00<00:00, 11.66it/s]\n",
      "Action: emotion: 100%|███████████████████████████████████████████████████████████████████| 1/1 [00:00<00:00, 11.14it/s]\n"
     ]
    },
    {
     "name": "stdout",
     "output_type": "stream",
     "text": [
      "[{'emotion': {'angry': 0.7784344255924225, 'disgust': 8.0110433842151e-07, 'fear': 45.410239696502686, 'happy': 0.00037785393942613155, 'sad': 51.33976936340332, 'surprise': 0.0002794337433442706, 'neutral': 2.4708932265639305}, 'dominant_emotion': 'sad', 'region': {'x': 749, 'y': 708, 'w': 290, 'h': 290}}, {'emotion': {'angry': 8.900664001703262, 'disgust': 0.0019560065993573517, 'fear': 0.8508231490850449, 'happy': 0.0021432864741655067, 'sad': 51.66456699371338, 'surprise': 0.0008601821718912106, 'neutral': 38.57898712158203}, 'dominant_emotion': 'sad', 'region': {'x': 640, 'y': 214, 'w': 560, 'h': 560}}]\n"
     ]
    },
    {
     "name": "stderr",
     "output_type": "stream",
     "text": [
      "Action: emotion: 100%|███████████████████████████████████████████████████████████████████| 1/1 [00:00<00:00,  9.03it/s]\n",
      "Action: emotion: 100%|███████████████████████████████████████████████████████████████████| 1/1 [00:00<00:00,  9.83it/s]\n"
     ]
    },
    {
     "name": "stdout",
     "output_type": "stream",
     "text": [
      "[{'emotion': {'angry': 0.37705102004110813, 'disgust': 4.3880015176966936e-07, 'fear': 22.398988902568817, 'happy': 0.000115443299364415, 'sad': 76.61290168762207, 'surprise': 0.00018404628008283908, 'neutral': 0.6107626482844353}, 'dominant_emotion': 'sad', 'region': {'x': 749, 'y': 711, 'w': 287, 'h': 287}}, {'emotion': {'angry': 0.9246996603906155, 'disgust': 0.005185494592296891, 'fear': 1.2966915033757687, 'happy': 0.016743323067203164, 'sad': 75.37996768951416, 'surprise': 0.03455201513133943, 'neutral': 22.34215885400772}, 'dominant_emotion': 'sad', 'region': {'x': 635, 'y': 212, 'w': 565, 'h': 565}}]\n"
     ]
    },
    {
     "name": "stderr",
     "output_type": "stream",
     "text": [
      "Action: emotion: 100%|███████████████████████████████████████████████████████████████████| 1/1 [00:00<00:00, 12.23it/s]\n",
      "Action: emotion: 100%|███████████████████████████████████████████████████████████████████| 1/1 [00:00<00:00, 11.39it/s]\n"
     ]
    },
    {
     "name": "stdout",
     "output_type": "stream",
     "text": [
      "[{'emotion': {'angry': 1.9001555830332983, 'disgust': 1.1160253120713922e-05, 'fear': 44.4251802221048, 'happy': 0.0022847199486308515, 'sad': 53.39056571665798, 'surprise': 0.0005346328953580282, 'neutral': 0.28126909677053075}, 'dominant_emotion': 'sad', 'region': {'x': 749, 'y': 710, 'w': 291, 'h': 291}}, {'emotion': {'angry': 0.29518536757677794, 'disgust': 0.00015864559372857912, 'fear': 9.170570224523544, 'happy': 0.03776378580369055, 'sad': 18.258865177631378, 'surprise': 7.402238994836807, 'neutral': 64.83521461486816}, 'dominant_emotion': 'neutral', 'region': {'x': 632, 'y': 207, 'w': 568, 'h': 568}}]\n"
     ]
    },
    {
     "name": "stderr",
     "output_type": "stream",
     "text": [
      "Action: emotion: 100%|███████████████████████████████████████████████████████████████████| 1/1 [00:00<00:00, 12.38it/s]\n",
      "Action: emotion: 100%|███████████████████████████████████████████████████████████████████| 1/1 [00:00<00:00, 10.67it/s]\n"
     ]
    },
    {
     "name": "stdout",
     "output_type": "stream",
     "text": [
      "[{'emotion': {'angry': 2.9592977737961874, 'disgust': 4.285199650744147e-05, 'fear': 83.28693409484232, 'happy': 0.01911401164093683, 'sad': 13.672103802687156, 'surprise': 0.0006703818998486424, 'neutral': 0.061837482692300244}, 'dominant_emotion': 'fear', 'region': {'x': 754, 'y': 720, 'w': 278, 'h': 278}}, {'emotion': {'angry': 1.3185507908700953, 'disgust': 0.016090903492052437, 'fear': 5.6907423507282315, 'happy': 92.1965787176396, 'sad': 0.7234325235715481, 'surprise': 0.00021640805392504584, 'neutral': 0.054383399466914}, 'dominant_emotion': 'happy', 'region': {'x': 641, 'y': 216, 'w': 555, 'h': 555}}]\n"
     ]
    },
    {
     "name": "stderr",
     "output_type": "stream",
     "text": [
      "Action: emotion: 100%|███████████████████████████████████████████████████████████████████| 1/1 [00:00<00:00, 11.94it/s]\n",
      "Action: emotion: 100%|███████████████████████████████████████████████████████████████████| 1/1 [00:00<00:00,  9.12it/s]\n"
     ]
    },
    {
     "name": "stdout",
     "output_type": "stream",
     "text": [
      "[{'emotion': {'angry': 3.3769354224205017, 'disgust': 0.00020540512650768505, 'fear': 74.62474703788757, 'happy': 0.16479105688631535, 'sad': 21.564482152462006, 'surprise': 0.0016094589227577671, 'neutral': 0.2672339556738734}, 'dominant_emotion': 'fear', 'region': {'x': 743, 'y': 717, 'w': 287, 'h': 287}}, {'emotion': {'angry': 0.1828608321083584, 'disgust': 0.005112358730991294, 'fear': 1.5692036606912207, 'happy': 96.3977988240479, 'sad': 1.3660215538467828, 'surprise': 0.00037840115928501904, 'neutral': 0.47862912645985206}, 'dominant_emotion': 'happy', 'region': {'x': 649, 'y': 218, 'w': 547, 'h': 547}}]\n"
     ]
    },
    {
     "name": "stderr",
     "output_type": "stream",
     "text": [
      "Action: emotion: 100%|███████████████████████████████████████████████████████████████████| 1/1 [00:00<00:00, 10.67it/s]\n",
      "Action: emotion: 100%|███████████████████████████████████████████████████████████████████| 1/1 [00:00<00:00, 10.23it/s]\n"
     ]
    },
    {
     "name": "stdout",
     "output_type": "stream",
     "text": [
      "[{'emotion': {'angry': 5.992852881124787, 'disgust': 8.889423345478688e-05, 'fear': 92.3456962314663, 'happy': 0.3674894324683805, 'sad': 1.2732491656094291, 'surprise': 0.0015978920643824079, 'neutral': 0.019023807223442626}, 'dominant_emotion': 'fear', 'region': {'x': 751, 'y': 718, 'w': 283, 'h': 283}}, {'emotion': {'angry': 0.14089168465311114, 'disgust': 0.0010866269418089664, 'fear': 1.9052834772725729, 'happy': 96.75797858739155, 'sad': 0.9233405644189638, 'surprise': 7.231317046877677e-05, 'neutral': 0.27133947263336505}, 'dominant_emotion': 'happy', 'region': {'x': 656, 'y': 217, 'w': 541, 'h': 541}}]\n"
     ]
    },
    {
     "name": "stderr",
     "output_type": "stream",
     "text": [
      "Action: emotion: 100%|███████████████████████████████████████████████████████████████████| 1/1 [00:00<00:00,  8.09it/s]\n",
      "Action: emotion: 100%|███████████████████████████████████████████████████████████████████| 1/1 [00:00<00:00, 10.34it/s]\n"
     ]
    },
    {
     "name": "stdout",
     "output_type": "stream",
     "text": [
      "[{'emotion': {'angry': 0.3502288367599249, 'disgust': 0.00027752912501455285, 'fear': 18.53635460138321, 'happy': 0.4470820538699627, 'sad': 3.804602473974228, 'surprise': 74.91905093193054, 'neutral': 1.942407339811325}, 'dominant_emotion': 'surprise', 'region': {'x': 665, 'y': 211, 'w': 541, 'h': 541}}, {'emotion': {'angry': 8.9159294962883, 'disgust': 1.2507659619132028e-05, 'fear': 41.612327098846436, 'happy': 0.003084827767452225, 'sad': 46.40388786792755, 'surprise': 0.0025588413336663507, 'neutral': 3.0621949583292007}, 'dominant_emotion': 'sad', 'region': {'x': 736, 'y': 697, 'w': 304, 'h': 304}}]\n"
     ]
    },
    {
     "name": "stderr",
     "output_type": "stream",
     "text": [
      "Action: emotion: 100%|███████████████████████████████████████████████████████████████████| 1/1 [00:00<00:00, 10.56it/s]\n",
      "Action: emotion: 100%|███████████████████████████████████████████████████████████████████| 1/1 [00:00<00:00, 10.67it/s]\n"
     ]
    },
    {
     "name": "stdout",
     "output_type": "stream",
     "text": [
      "[{'emotion': {'angry': 13.315185904502869, 'disgust': 0.01980001397896558, 'fear': 6.061698496341705, 'happy': 0.003978640597779304, 'sad': 28.825590014457703, 'surprise': 0.004428502870723605, 'neutral': 51.76931619644165}, 'dominant_emotion': 'neutral', 'region': {'x': 684, 'y': 206, 'w': 533, 'h': 533}}, {'emotion': {'angry': 4.868935585744907, 'disgust': 2.702142909271748e-08, 'fear': 39.19864425675341, 'happy': 0.005795482175357902, 'sad': 20.804039144034487, 'surprise': 0.000995644104022118, 'neutral': 35.121582732011944}, 'dominant_emotion': 'fear', 'region': {'x': 729, 'y': 675, 'w': 330, 'h': 330}}]\n"
     ]
    },
    {
     "name": "stderr",
     "output_type": "stream",
     "text": [
      "Action: emotion: 100%|███████████████████████████████████████████████████████████████████| 1/1 [00:00<00:00,  9.46it/s]\n",
      "Action: emotion: 100%|███████████████████████████████████████████████████████████████████| 1/1 [00:00<00:00,  9.55it/s]\n"
     ]
    },
    {
     "name": "stdout",
     "output_type": "stream",
     "text": [
      "[{'emotion': {'angry': 0.20629081409424543, 'disgust': 4.658568046296899e-12, 'fear': 0.48524229787290096, 'happy': 0.00014183345911078504, 'sad': 3.894754871726036, 'surprise': 4.036483858271822e-06, 'neutral': 95.41356563568115}, 'dominant_emotion': 'neutral', 'region': {'x': 728, 'y': 653, 'w': 355, 'h': 355}}, {'emotion': {'angry': 28.27954758879826, 'disgust': 0.0001256610250814637, 'fear': 5.8931529309244715, 'happy': 0.00026338763496948744, 'sad': 12.25342227538957, 'surprise': 0.0019158414266317628, 'neutral': 53.57157311270077}, 'dominant_emotion': 'neutral', 'region': {'x': 699, 'y': 198, 'w': 523, 'h': 523}}]\n"
     ]
    },
    {
     "name": "stderr",
     "output_type": "stream",
     "text": [
      "Action: emotion: 100%|███████████████████████████████████████████████████████████████████| 1/1 [00:00<00:00, 10.44it/s]\n",
      "Action: emotion: 100%|███████████████████████████████████████████████████████████████████| 1/1 [00:00<00:00,  9.73it/s]\n"
     ]
    },
    {
     "name": "stdout",
     "output_type": "stream",
     "text": [
      "[{'emotion': {'angry': 5.653978955271368, 'disgust': 8.078257099479456e-07, 'fear': 4.7283260103075495, 'happy': 0.0005974394495682795, 'sad': 6.68482551755601, 'surprise': 0.0017782847561799468, 'neutral': 82.93048942917711}, 'dominant_emotion': 'neutral', 'region': {'x': 702, 'y': 179, 'w': 528, 'h': 528}}, {'emotion': {'angry': 0.6950228475034237, 'disgust': 8.043744706767719e-11, 'fear': 0.6059233099222183, 'happy': 0.017464932170696557, 'sad': 5.625544488430023, 'surprise': 3.33577162336951e-05, 'neutral': 93.05601716041565}, 'dominant_emotion': 'neutral', 'region': {'x': 720, 'y': 638, 'w': 368, 'h': 368}}]\n"
     ]
    },
    {
     "name": "stderr",
     "output_type": "stream",
     "text": [
      "Action: emotion: 100%|███████████████████████████████████████████████████████████████████| 1/1 [00:00<00:00,  9.55it/s]\n",
      "Action: emotion: 100%|███████████████████████████████████████████████████████████████████| 1/1 [00:00<00:00,  9.46it/s]\n"
     ]
    },
    {
     "name": "stdout",
     "output_type": "stream",
     "text": [
      "[{'emotion': {'angry': 1.8296374008059502, 'disgust': 1.5202830994098804e-06, 'fear': 2.3767150938510895, 'happy': 79.67671155929565, 'sad': 0.6179079413414001, 'surprise': 0.0015813970094313845, 'neutral': 15.497446060180664}, 'dominant_emotion': 'happy', 'region': {'x': 693, 'y': 156, 'w': 560, 'h': 560}}, {'emotion': {'angry': 2.369113452732563, 'disgust': 1.6456893356733837e-10, 'fear': 0.8066154085099697, 'happy': 0.009374274668516591, 'sad': 18.668730556964874, 'surprise': 1.0349814516530387e-05, 'neutral': 78.14615964889526}, 'dominant_emotion': 'neutral', 'region': {'x': 720, 'y': 630, 'w': 374, 'h': 374}}]\n"
     ]
    },
    {
     "name": "stderr",
     "output_type": "stream",
     "text": [
      "Action: emotion: 100%|███████████████████████████████████████████████████████████████████| 1/1 [00:00<00:00,  7.77it/s]\n",
      "Action: emotion: 100%|███████████████████████████████████████████████████████████████████| 1/1 [00:00<00:00,  8.64it/s]\n"
     ]
    },
    {
     "name": "stdout",
     "output_type": "stream",
     "text": [
      "[{'emotion': {'angry': 1.0580923408269882, 'disgust': 1.4219726538291545e-12, 'fear': 0.11730630649253726, 'happy': 3.201226377314015e-05, 'sad': 16.551940143108368, 'surprise': 2.566550749705243e-07, 'neutral': 82.2726309299469}, 'dominant_emotion': 'neutral', 'region': {'x': 708, 'y': 615, 'w': 399, 'h': 399}}, {'emotion': {'angry': 1.9738092332368633, 'disgust': 2.3298163399421838e-09, 'fear': 0.13616777371125063, 'happy': 97.76406274819747, 'sad': 0.05844624013692082, 'surprise': 2.9516776894522472e-08, 'neutral': 0.06751563453208712}, 'dominant_emotion': 'happy', 'region': {'x': 697, 'y': 163, 'w': 545, 'h': 545}}]\n"
     ]
    },
    {
     "name": "stderr",
     "output_type": "stream",
     "text": [
      "Action: emotion: 100%|███████████████████████████████████████████████████████████████████| 1/1 [00:00<00:00,  9.73it/s]\n",
      "Action: emotion: 100%|███████████████████████████████████████████████████████████████████| 1/1 [00:00<00:00,  9.55it/s]\n"
     ]
    },
    {
     "name": "stdout",
     "output_type": "stream",
     "text": [
      "[{'emotion': {'angry': 1.6928231343626976, 'disgust': 2.818508447466339e-10, 'fear': 0.38062178064137697, 'happy': 0.003088660378125496, 'sad': 15.025530755519867, 'surprise': 6.124579243760309e-06, 'neutral': 82.89793133735657}, 'dominant_emotion': 'neutral', 'region': {'x': 714, 'y': 617, 'w': 388, 'h': 388}}, {'emotion': {'angry': 8.389188366209055e-06, 'disgust': 5.336650717689684e-11, 'fear': 0.39616385474801064, 'happy': 0.0027140124075231142, 'sad': 33.68213474750519, 'surprise': 5.297178372483911e-12, 'neutral': 65.9189760684967}, 'dominant_emotion': 'neutral', 'region': {'x': 700, 'y': 168, 'w': 535, 'h': 535}}]\n"
     ]
    },
    {
     "name": "stderr",
     "output_type": "stream",
     "text": [
      "Action: emotion: 100%|███████████████████████████████████████████████████████████████████| 1/1 [00:00<00:00,  9.64it/s]\n",
      "Action: emotion: 100%|███████████████████████████████████████████████████████████████████| 1/1 [00:00<00:00,  8.95it/s]\n"
     ]
    },
    {
     "name": "stdout",
     "output_type": "stream",
     "text": [
      "[{'emotion': {'angry': 0.7751470897346735, 'disgust': 1.0201169336337967e-10, 'fear': 0.7215081714093685, 'happy': 0.0019122337107546628, 'sad': 19.029146432876587, 'surprise': 2.326624404247468e-06, 'neutral': 79.47227954864502}, 'dominant_emotion': 'neutral', 'region': {'x': 722, 'y': 629, 'w': 374, 'h': 374}}, {'emotion': {'angry': 2.6061905547976494, 'disgust': 1.734548948917336e-07, 'fear': 0.41607613675296307, 'happy': 43.67688596248627, 'sad': 50.40401816368103, 'surprise': 8.446364496705883e-07, 'neutral': 2.896825782954693}, 'dominant_emotion': 'sad', 'region': {'x': 701, 'y': 174, 'w': 529, 'h': 529}}]\n"
     ]
    },
    {
     "name": "stderr",
     "output_type": "stream",
     "text": [
      "Action: emotion: 100%|███████████████████████████████████████████████████████████████████| 1/1 [00:00<00:00,  8.36it/s]\n",
      "Action: emotion: 100%|███████████████████████████████████████████████████████████████████| 1/1 [00:00<00:00,  9.83it/s]\n"
     ]
    },
    {
     "name": "stdout",
     "output_type": "stream",
     "text": [
      "[{'emotion': {'angry': 3.6403468185869943, 'disgust': 5.542676692693803e-06, 'fear': 6.551234069540147, 'happy': 0.007711609673959221, 'sad': 11.72126452453521, 'surprise': 0.007718797592914706, 'neutral': 78.07171810100783}, 'dominant_emotion': 'neutral', 'region': {'x': 687, 'y': 169, 'w': 544, 'h': 544}}, {'emotion': {'angry': 2.0661025608243087, 'disgust': 4.167232345976916e-10, 'fear': 0.6837469467518894, 'happy': 0.008307850425320144, 'sad': 8.634520836741974, 'surprise': 1.194864509722393e-05, 'neutral': 88.60731056972209}, 'dominant_emotion': 'neutral', 'region': {'x': 727, 'y': 639, 'w': 361, 'h': 361}}]\n"
     ]
    },
    {
     "name": "stderr",
     "output_type": "stream",
     "text": [
      "Action: emotion: 100%|███████████████████████████████████████████████████████████████████| 1/1 [00:00<00:00, 10.03it/s]\n",
      "Action: emotion: 100%|███████████████████████████████████████████████████████████████████| 1/1 [00:00<00:00, 10.23it/s]\n"
     ]
    },
    {
     "name": "stdout",
     "output_type": "stream",
     "text": [
      "[{'emotion': {'angry': 9.34663600881529, 'disgust': 1.139767811666067e-05, 'fear': 2.2157263789446806, 'happy': 0.005757828289179151, 'sad': 14.964993591903877, 'surprise': 0.001302548635728867, 'neutral': 73.46557658500392}, 'dominant_emotion': 'neutral', 'region': {'x': 683, 'y': 179, 'w': 548, 'h': 548}}, {'emotion': {'angry': 5.748762562870979, 'disgust': 4.44627147599963e-10, 'fear': 1.3139937072992325, 'happy': 0.002239858986285981, 'sad': 21.48899883031845, 'surprise': 1.6942868796832045e-05, 'neutral': 71.44598364830017}, 'dominant_emotion': 'neutral', 'region': {'x': 721, 'y': 642, 'w': 365, 'h': 365}}]\n"
     ]
    },
    {
     "name": "stderr",
     "output_type": "stream",
     "text": [
      "Action: emotion: 100%|███████████████████████████████████████████████████████████████████| 1/1 [00:00<00:00,  7.43it/s]\n",
      "Action: emotion: 100%|███████████████████████████████████████████████████████████████████| 1/1 [00:00<00:00,  8.95it/s]\n"
     ]
    },
    {
     "name": "stdout",
     "output_type": "stream",
     "text": [
      "[{'emotion': {'angry': 17.751169204711914, 'disgust': 1.3862898329275453e-08, 'fear': 3.738516941666603, 'happy': 0.00020178922568447888, 'sad': 36.83443367481232, 'surprise': 2.322259717857378e-05, 'neutral': 41.67565703392029}, 'dominant_emotion': 'neutral', 'region': {'x': 727, 'y': 661, 'w': 347, 'h': 347}}, {'emotion': {'angry': 24.154576659202576, 'disgust': 7.892055577940482e-05, 'fear': 3.763418272137642, 'happy': 0.00046841737457725685, 'sad': 9.409835189580917, 'surprise': 0.0021293566533131525, 'neutral': 62.66949772834778}, 'dominant_emotion': 'neutral', 'region': {'x': 693, 'y': 196, 'w': 525, 'h': 525}}]\n"
     ]
    },
    {
     "name": "stderr",
     "output_type": "stream",
     "text": [
      "Action: emotion: 100%|███████████████████████████████████████████████████████████████████| 1/1 [00:00<00:00,  9.55it/s]\n",
      "Action: emotion: 100%|███████████████████████████████████████████████████████████████████| 1/1 [00:00<00:00,  8.50it/s]\n"
     ]
    },
    {
     "name": "stdout",
     "output_type": "stream",
     "text": [
      "[{'emotion': {'angry': 0.3746605943888426, 'disgust': 1.5623899743411052e-09, 'fear': 0.32014057505875826, 'happy': 0.0016341622540494427, 'sad': 4.533626139163971, 'surprise': 4.7350445697702526e-05, 'neutral': 94.76988911628723}, 'dominant_emotion': 'neutral', 'region': {'x': 734, 'y': 679, 'w': 329, 'h': 329}}, {'emotion': {'angry': 10.859493166208267, 'disgust': 0.00544175309187267, 'fear': 26.9814670085907, 'happy': 0.004756150156026706, 'sad': 8.810784667730331, 'surprise': 18.190857768058777, 'neutral': 35.147202014923096}, 'dominant_emotion': 'neutral', 'region': {'x': 671, 'y': 179, 'w': 562, 'h': 562}}]\n"
     ]
    },
    {
     "name": "stderr",
     "output_type": "stream",
     "text": [
      "Action: emotion: 100%|███████████████████████████████████████████████████████████████████| 1/1 [00:00<00:00, 10.13it/s]\n",
      "Action: emotion: 100%|███████████████████████████████████████████████████████████████████| 1/1 [00:00<00:00, 10.55it/s]\n"
     ]
    },
    {
     "name": "stdout",
     "output_type": "stream",
     "text": [
      "[{'emotion': {'angry': 0.3313899738714099, 'disgust': 9.458189439981446e-10, 'fear': 0.7723985239863396, 'happy': 6.698082302136754e-05, 'sad': 22.69294261932373, 'surprise': 5.453263796084684e-06, 'neutral': 76.20319724082947}, 'dominant_emotion': 'neutral', 'region': {'x': 729, 'y': 685, 'w': 330, 'h': 330}}, {'emotion': {'angry': 0.6476640394879533, 'disgust': 0.031059348047155374, 'fear': 3.922602066683523, 'happy': 0.029988076921111117, 'sad': 0.02188683022836757, 'surprise': 95.26724871787444, 'neutral': 0.07954272075419476}, 'dominant_emotion': 'surprise', 'region': {'x': 663, 'y': 182, 'w': 570, 'h': 570}}]\n"
     ]
    },
    {
     "name": "stderr",
     "output_type": "stream",
     "text": [
      "Action: emotion: 100%|███████████████████████████████████████████████████████████████████| 1/1 [00:00<00:00,  9.55it/s]\n",
      "Action: emotion: 100%|███████████████████████████████████████████████████████████████████| 1/1 [00:00<00:00,  9.73it/s]\n"
     ]
    },
    {
     "name": "stdout",
     "output_type": "stream",
     "text": [
      "[{'emotion': {'angry': 0.019316021644044667, 'disgust': 3.119570031982766e-11, 'fear': 0.13428475940600038, 'happy': 0.00012800038575733197, 'sad': 5.228039249777794, 'surprise': 8.168027143540257e-07, 'neutral': 94.6182370185852}, 'dominant_emotion': 'neutral', 'region': {'x': 739, 'y': 700, 'w': 312, 'h': 312}}, {'emotion': {'angry': 90.44940357797188, 'disgust': 0.044801158466886995, 'fear': 2.6740975140449423, 'happy': 2.1980576974818344, 'sad': 2.611470720049229, 'surprise': 3.1776319055994185e-05, 'neutral': 2.022140714185323}, 'dominant_emotion': 'angry', 'region': {'x': 647, 'y': 169, 'w': 593, 'h': 593}}]\n"
     ]
    },
    {
     "name": "stderr",
     "output_type": "stream",
     "text": [
      "Action: emotion: 100%|███████████████████████████████████████████████████████████████████| 1/1 [00:00<00:00,  7.96it/s]\n",
      "Action: emotion: 100%|███████████████████████████████████████████████████████████████████| 1/1 [00:00<00:00, 10.23it/s]\n"
     ]
    },
    {
     "name": "stdout",
     "output_type": "stream",
     "text": [
      "[{'emotion': {'angry': 0.11652094544842839, 'disgust': 5.969899054270034e-10, 'fear': 0.7564157247543335, 'happy': 7.095611067597929e-05, 'sad': 17.69528239965439, 'surprise': 5.0422851671783064e-06, 'neutral': 81.43170475959778}, 'dominant_emotion': 'neutral', 'region': {'x': 732, 'y': 695, 'w': 321, 'h': 321}}, {'emotion': {'angry': 0.0005796635159437359, 'disgust': 1.091002618409125e-06, 'fear': 99.9151825803736, 'happy': 0.01673241985659091, 'sad': 0.007151826264275016, 'surprise': 0.00949308127408326, 'neutral': 0.05086164480102298}, 'dominant_emotion': 'fear', 'region': {'x': 660, 'y': 188, 'w': 564, 'h': 564}}]\n"
     ]
    },
    {
     "name": "stderr",
     "output_type": "stream",
     "text": [
      "Action: emotion: 100%|███████████████████████████████████████████████████████████████████| 1/1 [00:00<00:00,  9.12it/s]\n",
      "Action: emotion: 100%|███████████████████████████████████████████████████████████████████| 1/1 [00:00<00:00,  9.28it/s]\n"
     ]
    },
    {
     "name": "stdout",
     "output_type": "stream",
     "text": [
      "[{'emotion': {'angry': 0.30690389685332775, 'disgust': 1.7423461978749444e-09, 'fear': 1.5926854684948921, 'happy': 0.0002157838707717019, 'sad': 19.16748732328415, 'surprise': 1.6352991849544196e-05, 'neutral': 78.93269062042236}, 'dominant_emotion': 'neutral', 'region': {'x': 734, 'y': 687, 'w': 321, 'h': 321}}, {'emotion': {'angry': 0.0007658441973035224, 'disgust': 9.878699636090005e-07, 'fear': 98.62868189811707, 'happy': 0.008838454232318327, 'sad': 0.21092393435537815, 'surprise': 0.006966220826143399, 'neutral': 1.1438197456300259}, 'dominant_emotion': 'fear', 'region': {'x': 659, 'y': 190, 'w': 565, 'h': 565}}]\n"
     ]
    },
    {
     "name": "stderr",
     "output_type": "stream",
     "text": [
      "Action: emotion: 100%|███████████████████████████████████████████████████████████████████| 1/1 [00:00<00:00, 12.69it/s]\n",
      "Action: emotion: 100%|███████████████████████████████████████████████████████████████████| 1/1 [00:00<00:00, 11.66it/s]\n"
     ]
    },
    {
     "name": "stdout",
     "output_type": "stream",
     "text": [
      "[{'emotion': {'angry': 3.341626202561033, 'disgust': 3.3489792797791252e-09, 'fear': 0.7704141077646082, 'happy': 0.00014506601656380231, 'sad': 34.14400423431422, 'surprise': 1.691255236744931e-05, 'neutral': 61.74379359148703}, 'dominant_emotion': 'neutral', 'region': {'x': 730, 'y': 676, 'w': 333, 'h': 333}}, {'emotion': {'angry': 5.715762823820114, 'disgust': 4.382865768093325e-05, 'fear': 1.1406516656279564, 'happy': 0.0004850837740377756, 'sad': 5.310624837875366, 'surprise': 0.042796143679879606, 'neutral': 87.78963685035706}, 'dominant_emotion': 'neutral', 'region': {'x': 655, 'y': 193, 'w': 571, 'h': 571}}]\n"
     ]
    },
    {
     "name": "stderr",
     "output_type": "stream",
     "text": [
      "Action: emotion: 100%|███████████████████████████████████████████████████████████████████| 1/1 [00:00<00:00, 10.23it/s]\n",
      "Action: emotion: 100%|███████████████████████████████████████████████████████████████████| 1/1 [00:00<00:00, 10.55it/s]\n"
     ]
    },
    {
     "name": "stdout",
     "output_type": "stream",
     "text": [
      "[{'emotion': {'angry': 0.24970340825427673, 'disgust': 6.960957130407641e-11, 'fear': 0.28648750235289305, 'happy': 0.00038247430881558774, 'sad': 3.012660717945013, 'surprise': 2.5970228735814252e-05, 'neutral': 96.45073456159417}, 'dominant_emotion': 'neutral', 'region': {'x': 736, 'y': 683, 'w': 325, 'h': 325}}, {'emotion': {'angry': 0.5415687660317877, 'disgust': 0.0005325712981199036, 'fear': 92.80404405617976, 'happy': 0.06243365723244293, 'sad': 0.7524220255715862, 'surprise': 0.029709328689050893, 'neutral': 5.809289935784932}, 'dominant_emotion': 'fear', 'region': {'x': 650, 'y': 192, 'w': 578, 'h': 578}}]\n"
     ]
    },
    {
     "name": "stderr",
     "output_type": "stream",
     "text": [
      "Action: emotion: 100%|███████████████████████████████████████████████████████████████████| 1/1 [00:00<00:00, 12.23it/s]\n",
      "Action: emotion: 100%|███████████████████████████████████████████████████████████████████| 1/1 [00:00<00:00, 11.66it/s]\n"
     ]
    },
    {
     "name": "stdout",
     "output_type": "stream",
     "text": [
      "[{'emotion': {'angry': 0.12071699602529407, 'disgust': 1.1239626850761963e-10, 'fear': 0.398131413385272, 'happy': 0.0002896496198445675, 'sad': 2.856875956058502, 'surprise': 8.655883902974892e-05, 'neutral': 96.62390351295471}, 'dominant_emotion': 'neutral', 'region': {'x': 734, 'y': 688, 'w': 321, 'h': 321}}, {'emotion': {'angry': 22.229567170143127, 'disgust': 8.811308020995057e-05, 'fear': 3.6619633436203003, 'happy': 0.000253039570452529, 'sad': 20.649059116840363, 'surprise': 0.018476208788342774, 'neutral': 53.44058871269226}, 'dominant_emotion': 'neutral', 'region': {'x': 653, 'y': 190, 'w': 577, 'h': 577}}]\n"
     ]
    },
    {
     "name": "stderr",
     "output_type": "stream",
     "text": [
      "Action: emotion: 100%|███████████████████████████████████████████████████████████████████| 1/1 [00:00<00:00, 12.53it/s]\n",
      "Action: emotion: 100%|███████████████████████████████████████████████████████████████████| 1/1 [00:00<00:00, 11.53it/s]\n"
     ]
    },
    {
     "name": "stdout",
     "output_type": "stream",
     "text": [
      "[{'emotion': {'angry': 40.48086887369977, 'disgust': 0.003098050370742984, 'fear': 0.5250935603044701, 'happy': 46.72932287804161, 'sad': 2.452165553231901, 'surprise': 1.092129468268098e-05, 'neutral': 9.80944452398354}, 'dominant_emotion': 'happy', 'region': {'x': 659, 'y': 197, 'w': 564, 'h': 564}}, {'emotion': {'angry': 5.8625612407922745, 'disgust': 1.2077014388545138e-08, 'fear': 2.3485057055950165, 'happy': 9.946388672688045e-05, 'sad': 34.55030024051666, 'surprise': 5.399630822466861e-05, 'neutral': 57.2384774684906}, 'dominant_emotion': 'neutral', 'region': {'x': 736, 'y': 693, 'w': 320, 'h': 320}}]\n"
     ]
    },
    {
     "name": "stderr",
     "output_type": "stream",
     "text": [
      "Action: emotion: 100%|███████████████████████████████████████████████████████████████████| 1/1 [00:00<00:00,  8.95it/s]\n",
      "Action: emotion: 100%|███████████████████████████████████████████████████████████████████| 1/1 [00:00<00:00, 11.27it/s]\n"
     ]
    },
    {
     "name": "stdout",
     "output_type": "stream",
     "text": [
      "[{'emotion': {'angry': 1.4440271072089672, 'disgust': 5.612836584401037e-10, 'fear': 1.9759194925427437, 'happy': 0.0013089340427541174, 'sad': 6.4083680510520935, 'surprise': 0.00014127401755104074, 'neutral': 90.1702344417572}, 'dominant_emotion': 'neutral', 'region': {'x': 737, 'y': 690, 'w': 320, 'h': 320}}, {'emotion': {'angry': 3.296759176061104, 'disgust': 0.017959340381806514, 'fear': 5.897171774337994, 'happy': 86.94995563924049, 'sad': 1.335503426820244, 'surprise': 0.0011055182516895403, 'neutral': 2.5015484170048485}, 'dominant_emotion': 'happy', 'region': {'x': 663, 'y': 198, 'w': 551, 'h': 551}}]\n"
     ]
    },
    {
     "name": "stderr",
     "output_type": "stream",
     "text": [
      "Action: emotion: 100%|███████████████████████████████████████████████████████████████████| 1/1 [00:00<00:00, 12.23it/s]\n",
      "Action: emotion: 100%|███████████████████████████████████████████████████████████████████| 1/1 [00:00<00:00, 11.14it/s]\n"
     ]
    },
    {
     "name": "stdout",
     "output_type": "stream",
     "text": [
      "[{'emotion': {'angry': 1.8332304432988167, 'disgust': 2.6463338898691235e-10, 'fear': 1.6963997855782509, 'happy': 0.002776525252556894, 'sad': 3.5173770040273666, 'surprise': 0.0001737951606628485, 'neutral': 92.950040102005}, 'dominant_emotion': 'neutral', 'region': {'x': 729, 'y': 681, 'w': 335, 'h': 335}}, {'emotion': {'angry': 83.20974111557007, 'disgust': 0.0005779443199571688, 'fear': 0.6737655960023403, 'happy': 14.54562246799469, 'sad': 0.5177481099963188, 'surprise': 8.178884236542672e-07, 'neutral': 1.0525479912757874}, 'dominant_emotion': 'angry', 'region': {'x': 662, 'y': 186, 'w': 565, 'h': 565}}]\n"
     ]
    },
    {
     "name": "stderr",
     "output_type": "stream",
     "text": [
      "Action: emotion: 100%|███████████████████████████████████████████████████████████████████| 1/1 [00:00<00:00, 13.37it/s]\n",
      "Action: emotion: 100%|███████████████████████████████████████████████████████████████████| 1/1 [00:00<00:00, 12.38it/s]\n"
     ]
    },
    {
     "name": "stdout",
     "output_type": "stream",
     "text": [
      "[{'emotion': {'angry': 2.6009880006313324, 'disgust': 2.0201715734274872e-10, 'fear': 9.23873856663704, 'happy': 0.0022910275220056064, 'sad': 6.348614394664764, 'surprise': 0.00046559607653762214, 'neutral': 81.80890083312988}, 'dominant_emotion': 'neutral', 'region': {'x': 723, 'y': 676, 'w': 340, 'h': 340}}, {'emotion': {'angry': 25.070005646943372, 'disgust': 0.12752271366966203, 'fear': 10.712609653161806, 'happy': 37.64023630139395, 'sad': 16.635380192353704, 'surprise': 0.0006005557418429433, 'neutral': 9.813636116548048}, 'dominant_emotion': 'happy', 'region': {'x': 667, 'y': 187, 'w': 554, 'h': 554}}]\n"
     ]
    },
    {
     "name": "stderr",
     "output_type": "stream",
     "text": [
      "Action: emotion: 100%|███████████████████████████████████████████████████████████████████| 1/1 [00:00<00:00, 13.02it/s]\n",
      "Action: emotion: 100%|███████████████████████████████████████████████████████████████████| 1/1 [00:00<00:00, 11.66it/s]\n",
      "Action: emotion: 100%|███████████████████████████████████████████████████████████████████| 1/1 [00:00<00:00, 11.66it/s]\n"
     ]
    },
    {
     "name": "stdout",
     "output_type": "stream",
     "text": [
      "[{'emotion': {'angry': 0.5656599532812834, 'disgust': 4.559330885924029e-11, 'fear': 34.608787298202515, 'happy': 0.00020897753074677894, 'sad': 9.932278841733932, 'surprise': 0.00024739804302953416, 'neutral': 54.89282011985779}, 'dominant_emotion': 'neutral', 'region': {'x': 731, 'y': 681, 'w': 329, 'h': 329}}, {'emotion': {'angry': 1.3700605370104313, 'disgust': 0.0008857487046043389, 'fear': 0.7354876026511192, 'happy': 0.4008805379271507, 'sad': 95.97311615943909, 'surprise': 2.323485048805196e-06, 'neutral': 1.5195646323263645}, 'dominant_emotion': 'sad', 'region': {'x': 659, 'y': 175, 'w': 570, 'h': 570}}, {'emotion': {'angry': 0.00661345329717733, 'disgust': 1.885923925706856e-10, 'fear': 21.591223776340485, 'happy': 3.4236185252666473, 'sad': 4.441265016794205, 'surprise': 0.006525441858684644, 'neutral': 70.53075432777405}, 'dominant_emotion': 'neutral', 'region': {'x': 540, 'y': 863, 'w': 71, 'h': 71}}]\n"
     ]
    },
    {
     "name": "stderr",
     "output_type": "stream",
     "text": [
      "Action: emotion: 100%|███████████████████████████████████████████████████████████████████| 1/1 [00:00<00:00, 11.52it/s]\n",
      "Action: emotion: 100%|███████████████████████████████████████████████████████████████████| 1/1 [00:00<00:00, 12.53it/s]\n"
     ]
    },
    {
     "name": "stdout",
     "output_type": "stream",
     "text": [
      "[{'emotion': {'angry': 0.9363529457274611, 'disgust': 5.4093850652798244e-11, 'fear': 21.830683568797536, 'happy': 0.0004935394960641214, 'sad': 11.60155300516522, 'surprise': 0.00018929797516799608, 'neutral': 65.63072986969112}, 'dominant_emotion': 'neutral', 'region': {'x': 729, 'y': 680, 'w': 330, 'h': 330}}, {'emotion': {'angry': 0.00013913177621023367, 'disgust': 3.728978681834013e-09, 'fear': 0.8044808199382806, 'happy': 0.00037903851051063214, 'sad': 6.125663551668343e-06, 'surprise': 99.19499149262803, 'neutral': 6.091362807553292e-06}, 'dominant_emotion': 'surprise', 'region': {'x': 666, 'y': 182, 'w': 558, 'h': 558}}]\n"
     ]
    },
    {
     "name": "stderr",
     "output_type": "stream",
     "text": [
      "Action: emotion: 100%|███████████████████████████████████████████████████████████████████| 1/1 [00:00<00:00, 10.13it/s]\n",
      "Action: emotion: 100%|███████████████████████████████████████████████████████████████████| 1/1 [00:00<00:00, 11.14it/s]\n"
     ]
    },
    {
     "name": "stdout",
     "output_type": "stream",
     "text": [
      "[{'emotion': {'angry': 0.004102872725421427, 'disgust': 1.1411832159988837e-06, 'fear': 1.0933614056325796, 'happy': 0.006533632793605792, 'sad': 0.0002498802053888986, 'surprise': 98.8954126176484, 'neutral': 0.0003418973823559889}, 'dominant_emotion': 'surprise', 'region': {'x': 663, 'y': 184, 'w': 564, 'h': 564}}, {'emotion': {'angry': 0.5497804842889309, 'disgust': 1.8372226483209797e-10, 'fear': 24.52852725982666, 'happy': 0.0002560018856456736, 'sad': 13.088765740394592, 'surprise': 0.00020220807073201286, 'neutral': 61.83246970176697}, 'dominant_emotion': 'neutral', 'region': {'x': 728, 'y': 679, 'w': 336, 'h': 336}}]\n"
     ]
    },
    {
     "name": "stderr",
     "output_type": "stream",
     "text": [
      "Action: emotion: 100%|███████████████████████████████████████████████████████████████████| 1/1 [00:00<00:00, 10.23it/s]\n",
      "Action: emotion: 100%|███████████████████████████████████████████████████████████████████| 1/1 [00:00<00:00, 11.14it/s]\n"
     ]
    },
    {
     "name": "stdout",
     "output_type": "stream",
     "text": [
      "[{'emotion': {'angry': 1.8459882925138822, 'disgust': 1.2668565624626011e-09, 'fear': 20.05254120260968, 'happy': 0.0004645618090681141, 'sad': 18.38577012846114, 'surprise': 0.0002008743206979479, 'neutral': 59.7150396961021}, 'dominant_emotion': 'neutral', 'region': {'x': 735, 'y': 684, 'w': 330, 'h': 330}}, {'emotion': {'angry': 9.799925559768013, 'disgust': 2.2829128575031482e-05, 'fear': 0.15436505688472904, 'happy': 90.0069963923697, 'sad': 0.024227649577763726, 'surprise': 1.2767402278857775e-08, 'neutral': 0.014456207013787237}, 'dominant_emotion': 'happy', 'region': {'x': 670, 'y': 188, 'w': 553, 'h': 553}}]\n"
     ]
    },
    {
     "name": "stderr",
     "output_type": "stream",
     "text": [
      "Action: emotion: 100%|███████████████████████████████████████████████████████████████████| 1/1 [00:00<00:00, 12.85it/s]\n",
      "Action: emotion: 100%|███████████████████████████████████████████████████████████████████| 1/1 [00:00<00:00, 11.94it/s]\n"
     ]
    },
    {
     "name": "stdout",
     "output_type": "stream",
     "text": [
      "[{'emotion': {'angry': 1.2916269712150097, 'disgust': 2.373061296079282e-09, 'fear': 35.81068217754364, 'happy': 0.00010042011808764073, 'sad': 41.444286704063416, 'surprise': 0.000148693789014942, 'neutral': 21.45315557718277}, 'dominant_emotion': 'sad', 'region': {'x': 738, 'y': 684, 'w': 330, 'h': 330}}, {'emotion': {'angry': 82.69071785322215, 'disgust': 0.0043441005169461795, 'fear': 0.625097258004873, 'happy': 12.028776910450826, 'sad': 2.616820731244, 'surprise': 4.0986992021546925e-06, 'neutral': 2.034234944375164}, 'dominant_emotion': 'angry', 'region': {'x': 668, 'y': 187, 'w': 564, 'h': 564}}]\n"
     ]
    },
    {
     "name": "stderr",
     "output_type": "stream",
     "text": [
      "Action: emotion: 100%|███████████████████████████████████████████████████████████████████| 1/1 [00:00<00:00, 12.86it/s]\n",
      "Action: emotion: 100%|███████████████████████████████████████████████████████████████████| 1/1 [00:00<00:00, 11.02it/s]\n"
     ]
    },
    {
     "name": "stdout",
     "output_type": "stream",
     "text": [
      "[{'emotion': {'angry': 1.5391464372996764, 'disgust': 5.1943488452288905e-09, 'fear': 47.536525423940965, 'happy': 4.0623894779259774e-05, 'sad': 42.64994649291676, 'surprise': 0.00014066174031830486, 'neutral': 8.274192121721253}, 'dominant_emotion': 'fear', 'region': {'x': 738, 'y': 686, 'w': 325, 'h': 325}}, {'emotion': {'angry': 69.75276885943227, 'disgust': 0.002072379298456735, 'fear': 0.5683014042408111, 'happy': 12.239662542323025, 'sad': 12.012660474339752, 'surprise': 5.879442172729453e-07, 'neutral': 5.424530009897352}, 'dominant_emotion': 'angry', 'region': {'x': 672, 'y': 194, 'w': 556, 'h': 556}}]\n"
     ]
    },
    {
     "name": "stderr",
     "output_type": "stream",
     "text": [
      "Action: emotion: 100%|███████████████████████████████████████████████████████████████████| 1/1 [00:00<00:00, 11.80it/s]\n",
      "Action: emotion: 100%|███████████████████████████████████████████████████████████████████| 1/1 [00:00<00:00, 13.37it/s]\n"
     ]
    },
    {
     "name": "stdout",
     "output_type": "stream",
     "text": [
      "[{'emotion': {'angry': 1.1229346244296208, 'disgust': 1.6677810127799912e-08, 'fear': 56.884554438862466, 'happy': 9.305095986582064e-05, 'sad': 33.08125633485653, 'surprise': 0.0004414549302338767, 'neutral': 8.910720581455266}, 'dominant_emotion': 'fear', 'region': {'x': 736, 'y': 686, 'w': 327, 'h': 327}}, {'emotion': {'angry': 2.849237248301506, 'disgust': 0.012877270637545735, 'fear': 3.0852211639285088, 'happy': 0.13399639865383506, 'sad': 72.32704758644104, 'surprise': 0.0017964794096769765, 'neutral': 21.5898260474205}, 'dominant_emotion': 'sad', 'region': {'x': 674, 'y': 193, 'w': 556, 'h': 556}}]\n"
     ]
    },
    {
     "name": "stderr",
     "output_type": "stream",
     "text": [
      "Action: emotion: 100%|███████████████████████████████████████████████████████████████████| 1/1 [00:00<00:00,  9.73it/s]\n",
      "Action: emotion: 100%|███████████████████████████████████████████████████████████████████| 1/1 [00:00<00:00, 10.55it/s]\n"
     ]
    },
    {
     "name": "stdout",
     "output_type": "stream",
     "text": [
      "[{'emotion': {'angry': 2.032957971096039, 'disgust': 3.1786456800020346e-08, 'fear': 53.56875658035278, 'happy': 0.00013390060757956235, 'sad': 38.433557748794556, 'surprise': 0.0003426606781431474, 'neutral': 5.9642549604177475}, 'dominant_emotion': 'fear', 'region': {'x': 742, 'y': 687, 'w': 324, 'h': 324}}, {'emotion': {'angry': 0.0005475431862578262, 'disgust': 1.3479763139034873e-08, 'fear': 1.1328627355396748, 'happy': 0.00120396734928363, 'sad': 0.00022044230263418285, 'surprise': 98.86311888694763, 'neutral': 0.0020428675270522945}, 'dominant_emotion': 'surprise', 'region': {'x': 673, 'y': 194, 'w': 556, 'h': 556}}]\n"
     ]
    },
    {
     "name": "stderr",
     "output_type": "stream",
     "text": [
      "Action: emotion: 100%|███████████████████████████████████████████████████████████████████| 1/1 [00:00<00:00, 12.08it/s]\n",
      "Action: emotion: 100%|███████████████████████████████████████████████████████████████████| 1/1 [00:00<00:00, 11.14it/s]\n"
     ]
    },
    {
     "name": "stdout",
     "output_type": "stream",
     "text": [
      "[{'emotion': {'angry': 0.866391696035862, 'disgust': 2.864350978626362e-08, 'fear': 62.67716884613037, 'happy': 9.728239547257544e-05, 'sad': 31.216248869895935, 'surprise': 0.0003697153715620516, 'neutral': 5.239725857973099}, 'dominant_emotion': 'fear', 'region': {'x': 738, 'y': 687, 'w': 324, 'h': 324}}, {'emotion': {'angry': 0.6190014440716174, 'disgust': 0.04477203159165571, 'fear': 0.3015377040006342, 'happy': 1.33726846946886, 'sad': 61.46203049791041, 'surprise': 1.8454825257736435e-05, 'neutral': 36.23537041159692}, 'dominant_emotion': 'sad', 'region': {'x': 674, 'y': 199, 'w': 553, 'h': 553}}]\n"
     ]
    },
    {
     "name": "stderr",
     "output_type": "stream",
     "text": [
      "Action: emotion: 100%|███████████████████████████████████████████████████████████████████| 1/1 [00:00<00:00, 12.23it/s]\n",
      "Action: emotion: 100%|███████████████████████████████████████████████████████████████████| 1/1 [00:00<00:00, 12.08it/s]\n"
     ]
    },
    {
     "name": "stdout",
     "output_type": "stream",
     "text": [
      "[{'emotion': {'angry': 3.1576350331306458, 'disgust': 3.892051125831131e-08, 'fear': 61.219626665115356, 'happy': 0.00012601332173289848, 'sad': 28.627461194992065, 'surprise': 0.0006126187599875266, 'neutral': 6.9945380091667175}, 'dominant_emotion': 'fear', 'region': {'x': 736, 'y': 684, 'w': 332, 'h': 332}}, {'emotion': {'angry': 0.0069201982114464045, 'disgust': 2.2963394741282173e-06, 'fear': 9.780105203390121, 'happy': 0.07205602014437318, 'sad': 0.040636592893861234, 'surprise': 90.01262784004211, 'neutral': 0.08765988750383258}, 'dominant_emotion': 'surprise', 'region': {'x': 675, 'y': 200, 'w': 549, 'h': 549}}]\n"
     ]
    },
    {
     "name": "stderr",
     "output_type": "stream",
     "text": [
      "Action: emotion: 100%|███████████████████████████████████████████████████████████████████| 1/1 [00:00<00:00, 13.02it/s]\n",
      "Action: emotion: 100%|███████████████████████████████████████████████████████████████████| 1/1 [00:00<00:00, 11.94it/s]\n"
     ]
    },
    {
     "name": "stdout",
     "output_type": "stream",
     "text": [
      "[{'emotion': {'angry': 0.08667322625134743, 'disgust': 0.000242615411389164, 'fear': 10.469850776782678, 'happy': 0.4876370832405736, 'sad': 0.25746267426536523, 'surprise': 87.12584299599189, 'neutral': 1.5722912742073103}, 'dominant_emotion': 'surprise', 'region': {'x': 671, 'y': 197, 'w': 556, 'h': 556}}, {'emotion': {'angry': 1.8387769950894124, 'disgust': 1.773331825372032e-07, 'fear': 72.96508276878801, 'happy': 0.0001521815011558522, 'sad': 20.672192195392586, 'surprise': 0.0008588687591567159, 'neutral': 4.522929546483809}, 'dominant_emotion': 'fear', 'region': {'x': 737, 'y': 686, 'w': 330, 'h': 330}}]\n"
     ]
    },
    {
     "name": "stderr",
     "output_type": "stream",
     "text": [
      "Action: emotion: 100%|███████████████████████████████████████████████████████████████████| 1/1 [00:00<00:00, 10.90it/s]\n",
      "Action: emotion: 100%|███████████████████████████████████████████████████████████████████| 1/1 [00:00<00:00, 12.85it/s]\n"
     ]
    },
    {
     "name": "stdout",
     "output_type": "stream",
     "text": [
      "[{'emotion': {'angry': 81.73105011767447, 'disgust': 5.968240702111641e-08, 'fear': 0.48168462778238225, 'happy': 16.936596747433946, 'sad': 3.624749001620831e-05, 'surprise': 0.8435599077379649, 'neutral': 0.0070733531752551005}, 'dominant_emotion': 'angry', 'region': {'x': 676, 'y': 197, 'w': 551, 'h': 551}}, {'emotion': {'angry': 1.6771193593740463, 'disgust': 1.563397744597239e-07, 'fear': 53.72236967086792, 'happy': 8.991493132270989e-05, 'sad': 38.76956105232239, 'surprise': 0.0005548034096136689, 'neutral': 5.830303952097893}, 'dominant_emotion': 'fear', 'region': {'x': 740, 'y': 691, 'w': 321, 'h': 321}}]\n"
     ]
    },
    {
     "name": "stderr",
     "output_type": "stream",
     "text": [
      "Action: emotion: 100%|███████████████████████████████████████████████████████████████████| 1/1 [00:00<00:00,  9.55it/s]\n",
      "Action: emotion: 100%|███████████████████████████████████████████████████████████████████| 1/1 [00:00<00:00,  8.95it/s]\n"
     ]
    },
    {
     "name": "stdout",
     "output_type": "stream",
     "text": [
      "[{'emotion': {'angry': 3.159871320739827, 'disgust': 4.303762610610172e-07, 'fear': 55.001156926017174, 'happy': 0.00036903477542170907, 'sad': 32.7136805398845, 'surprise': 0.0009867672548920768, 'neutral': 9.123928502329766}, 'dominant_emotion': 'fear', 'region': {'x': 740, 'y': 691, 'w': 323, 'h': 323}}, {'emotion': {'angry': 0.005439001688500866, 'disgust': 8.249092076084708e-07, 'fear': 2.793128974735737, 'happy': 0.006401550490409136, 'sad': 0.0025585806724848226, 'surprise': 97.15433120727539, 'neutral': 0.03814399824477732}, 'dominant_emotion': 'surprise', 'region': {'x': 670, 'y': 194, 'w': 564, 'h': 564}}]\n"
     ]
    },
    {
     "name": "stderr",
     "output_type": "stream",
     "text": [
      "Action: emotion: 100%|███████████████████████████████████████████████████████████████████| 1/1 [00:00<00:00, 12.08it/s]\n",
      "Action: emotion: 100%|███████████████████████████████████████████████████████████████████| 1/1 [00:00<00:00, 11.02it/s]\n"
     ]
    },
    {
     "name": "stdout",
     "output_type": "stream",
     "text": [
      "[{'emotion': {'angry': 1.7616831003645779, 'disgust': 1.4308652636496476e-07, 'fear': 59.34903137076275, 'happy': 6.145040907033764e-05, 'sad': 32.92281424079111, 'surprise': 0.0006440834880971223, 'neutral': 5.965767394395756}, 'dominant_emotion': 'fear', 'region': {'x': 736, 'y': 688, 'w': 327, 'h': 327}}, {'emotion': {'angry': 0.008992925531274856, 'disgust': 6.615456665986647e-06, 'fear': 2.117138295897144, 'happy': 0.01859156438369315, 'sad': 0.00011173777449843945, 'surprise': 97.85441147413322, 'neutral': 0.0007423551311612626}, 'dominant_emotion': 'surprise', 'region': {'x': 664, 'y': 190, 'w': 574, 'h': 574}}]\n"
     ]
    },
    {
     "name": "stderr",
     "output_type": "stream",
     "text": [
      "Action: emotion: 100%|███████████████████████████████████████████████████████████████████| 1/1 [00:00<00:00, 10.90it/s]\n",
      "Action: emotion: 100%|███████████████████████████████████████████████████████████████████| 1/1 [00:00<00:00,  8.87it/s]\n"
     ]
    },
    {
     "name": "stdout",
     "output_type": "stream",
     "text": [
      "[{'emotion': {'angry': 4.159392416477203, 'disgust': 2.941673127310196e-07, 'fear': 39.876434206962585, 'happy': 5.0808415608116775e-05, 'sad': 51.55457854270935, 'surprise': 0.0003695994564623106, 'neutral': 4.409173130989075}, 'dominant_emotion': 'sad', 'region': {'x': 741, 'y': 694, 'w': 320, 'h': 320}}, {'emotion': {'angry': 0.0025387813366251066, 'disgust': 6.383103379192789e-07, 'fear': 2.793213911354542, 'happy': 0.011262782936682925, 'sad': 0.00016451105011583422, 'surprise': 97.18825817108154, 'neutral': 0.004564505798043683}, 'dominant_emotion': 'surprise', 'region': {'x': 664, 'y': 189, 'w': 580, 'h': 580}}]\n"
     ]
    },
    {
     "name": "stderr",
     "output_type": "stream",
     "text": [
      "Action: emotion: 100%|███████████████████████████████████████████████████████████████████| 1/1 [00:00<00:00, 11.14it/s]\n",
      "Action: emotion: 100%|███████████████████████████████████████████████████████████████████| 1/1 [00:00<00:00, 11.66it/s]\n",
      "Action: emotion: 100%|███████████████████████████████████████████████████████████████████| 1/1 [00:00<00:00, 11.94it/s]\n"
     ]
    },
    {
     "name": "stdout",
     "output_type": "stream",
     "text": [
      "[{'emotion': {'angry': 3.925280272960663, 'disgust': 3.9628718084827597e-07, 'fear': 49.027252197265625, 'happy': 0.00012861656841778313, 'sad': 42.97816753387451, 'surprise': 0.00047317848839156795, 'neutral': 4.068699851632118}, 'dominant_emotion': 'fear', 'region': {'x': 740, 'y': 695, 'w': 322, 'h': 322}}, {'emotion': {'angry': 0.010105988496712655, 'disgust': 5.646022297599045e-06, 'fear': 4.949913841480842, 'happy': 0.05504004985332786, 'sad': 0.005960457556852403, 'surprise': 94.92711394590819, 'neutral': 0.05186156795280087}, 'dominant_emotion': 'surprise', 'region': {'x': 664, 'y': 192, 'w': 578, 'h': 578}}, {'emotion': {'angry': 0.028787596444774098, 'disgust': 3.5189297364571734e-10, 'fear': 2.1405632849856273, 'happy': 74.75863399998737, 'sad': 0.5030255630730911, 'surprise': 0.00814756470579814, 'neutral': 22.560838155646543}, 'dominant_emotion': 'happy', 'region': {'x': 545, 'y': 860, 'w': 75, 'h': 75}}]\n"
     ]
    },
    {
     "name": "stderr",
     "output_type": "stream",
     "text": [
      "Action: emotion: 100%|███████████████████████████████████████████████████████████████████| 1/1 [00:00<00:00, 12.38it/s]\n",
      "Action: emotion: 100%|███████████████████████████████████████████████████████████████████| 1/1 [00:00<00:00, 11.53it/s]\n",
      "Action: emotion: 100%|███████████████████████████████████████████████████████████████████| 1/1 [00:00<00:00, 11.80it/s]\n"
     ]
    },
    {
     "name": "stdout",
     "output_type": "stream",
     "text": [
      "[{'emotion': {'angry': 1.9809363409876823, 'disgust': 2.9698981052206364e-07, 'fear': 66.1604642868042, 'happy': 0.00045073752517055254, 'sad': 23.13925474882126, 'surprise': 0.002020003739744425, 'neutral': 8.716867864131927}, 'dominant_emotion': 'fear', 'region': {'x': 737, 'y': 694, 'w': 325, 'h': 325}}, {'emotion': {'angry': 25.841768136129865, 'disgust': 9.573908720845504, 'fear': 6.5093603139734455, 'happy': 1.2626197941672679, 'sad': 40.72858933976825, 'surprise': 0.04334090594092196, 'neutral': 16.040414037729146}, 'dominant_emotion': 'sad', 'region': {'x': 661, 'y': 191, 'w': 581, 'h': 581}}, {'emotion': {'angry': 0.0056984670663950965, 'disgust': 4.1886459578588386e-11, 'fear': 0.023323908681049943, 'happy': 87.08637356758118, 'sad': 0.02554377424530685, 'surprise': 0.0006101967755967053, 'neutral': 12.858450412750244}, 'dominant_emotion': 'happy', 'region': {'x': 543, 'y': 860, 'w': 77, 'h': 77}}]\n"
     ]
    },
    {
     "name": "stderr",
     "output_type": "stream",
     "text": [
      "Action: emotion: 100%|███████████████████████████████████████████████████████████████████| 1/1 [00:00<00:00,  9.12it/s]\n",
      "Action: emotion: 100%|███████████████████████████████████████████████████████████████████| 1/1 [00:00<00:00, 10.34it/s]\n",
      "Action: emotion: 100%|███████████████████████████████████████████████████████████████████| 1/1 [00:00<00:00, 11.53it/s]\n"
     ]
    },
    {
     "name": "stdout",
     "output_type": "stream",
     "text": [
      "[{'emotion': {'angry': 5.97187727689743, 'disgust': 4.311167423054485e-07, 'fear': 35.83650290966034, 'happy': 0.0002634641532495152, 'sad': 52.06295847892761, 'surprise': 0.0005579744083661353, 'neutral': 6.127838045358658}, 'dominant_emotion': 'sad', 'region': {'x': 745, 'y': 697, 'w': 319, 'h': 319}}, {'emotion': {'angry': 0.0475637789350003, 'disgust': 5.887153611827678e-10, 'fear': 1.1034438386559486, 'happy': 39.361417293548584, 'sad': 0.2658375073224306, 'surprise': 0.008880005043465644, 'neutral': 59.212857484817505}, 'dominant_emotion': 'neutral', 'region': {'x': 544, 'y': 862, 'w': 74, 'h': 74}}, {'emotion': {'angry': 0.3513011848554015, 'disgust': 0.008532081847079098, 'fear': 71.18997573852539, 'happy': 0.0024711091100471094, 'sad': 18.192341923713684, 'surprise': 5.424841447165818e-05, 'neutral': 10.255321115255356}, 'dominant_emotion': 'fear', 'region': {'x': 666, 'y': 198, 'w': 569, 'h': 569}}]\n"
     ]
    },
    {
     "name": "stderr",
     "output_type": "stream",
     "text": [
      "Action: emotion: 100%|███████████████████████████████████████████████████████████████████| 1/1 [00:00<00:00, 12.23it/s]\n",
      "Action: emotion: 100%|███████████████████████████████████████████████████████████████████| 1/1 [00:00<00:00, 12.08it/s]\n"
     ]
    },
    {
     "name": "stdout",
     "output_type": "stream",
     "text": [
      "[{'emotion': {'angry': 3.4200328981837154, 'disgust': 2.5239638479129195e-07, 'fear': 49.7598737764509, 'happy': 0.00017970624089279553, 'sad': 37.375681117095816, 'surprise': 0.0007543602815753631, 'neutral': 9.443474925342212}, 'dominant_emotion': 'fear', 'region': {'x': 741, 'y': 695, 'w': 323, 'h': 323}}, {'emotion': {'angry': 0.5917048321461478, 'disgust': 0.008595081750695094, 'fear': 66.69636567787715, 'happy': 0.001432738997929815, 'sad': 19.369282647285775, 'surprise': 0.0002577952807675893, 'neutral': 13.332364062352665}, 'dominant_emotion': 'fear', 'region': {'x': 670, 'y': 201, 'w': 562, 'h': 562}}]\n"
     ]
    },
    {
     "name": "stderr",
     "output_type": "stream",
     "text": [
      "Action: emotion: 100%|███████████████████████████████████████████████████████████████████| 1/1 [00:00<00:00, 11.80it/s]\n",
      "Action: emotion: 100%|███████████████████████████████████████████████████████████████████| 1/1 [00:00<00:00, 11.66it/s]\n",
      "Action: emotion: 100%|███████████████████████████████████████████████████████████████████| 1/1 [00:00<00:00, 11.66it/s]\n"
     ]
    },
    {
     "name": "stdout",
     "output_type": "stream",
     "text": [
      "[{'emotion': {'angry': 3.0708933216865852, 'disgust': 2.3730254732355183e-07, 'fear': 56.14201761138544, 'happy': 0.00048530985787262294, 'sad': 31.492533176692316, 'surprise': 0.0007417268067090917, 'neutral': 9.293336230119243}, 'dominant_emotion': 'fear', 'region': {'x': 741, 'y': 695, 'w': 326, 'h': 326}}, {'emotion': {'angry': 0.006468128369496734, 'disgust': 2.688495327835008e-07, 'fear': 8.045167261938182, 'happy': 0.13115523216513011, 'sad': 0.05491358970390681, 'surprise': 87.73874190583922, 'neutral': 4.023546618396447}, 'dominant_emotion': 'surprise', 'region': {'x': 665, 'y': 194, 'w': 570, 'h': 570}}, {'emotion': {'angry': 0.03193732901664626, 'disgust': 2.8275206493786145e-10, 'fear': 3.340080354800182, 'happy': 91.38478739442975, 'sad': 0.11867419566000156, 'surprise': 0.0528129162173222, 'neutral': 5.071704975163343}, 'dominant_emotion': 'happy', 'region': {'x': 545, 'y': 862, 'w': 73, 'h': 73}}]\n"
     ]
    },
    {
     "name": "stderr",
     "output_type": "stream",
     "text": [
      "Action: emotion: 100%|███████████████████████████████████████████████████████████████████| 1/1 [00:00<00:00, 11.80it/s]\n",
      "Action: emotion: 100%|███████████████████████████████████████████████████████████████████| 1/1 [00:00<00:00, 12.08it/s]\n"
     ]
    },
    {
     "name": "stdout",
     "output_type": "stream",
     "text": [
      "[{'emotion': {'angry': 3.4706711769104004, 'disgust': 3.3974254520785507e-07, 'fear': 50.11139512062073, 'happy': 0.0007195661055447999, 'sad': 36.302003264427185, 'surprise': 0.0009023202437674627, 'neutral': 10.114310681819916}, 'dominant_emotion': 'fear', 'region': {'x': 741, 'y': 695, 'w': 325, 'h': 325}}, {'emotion': {'angry': 0.24145319168735693, 'disgust': 8.009800376321689e-05, 'fear': 8.568990741311952, 'happy': 0.009332836463396934, 'sad': 0.032298312468539925, 'surprise': 90.62395635986068, 'neutral': 0.5238887700521213}, 'dominant_emotion': 'surprise', 'region': {'x': 663, 'y': 192, 'w': 579, 'h': 579}}]\n"
     ]
    },
    {
     "name": "stderr",
     "output_type": "stream",
     "text": [
      "Action: emotion: 100%|███████████████████████████████████████████████████████████████████| 1/1 [00:00<00:00,  9.83it/s]\n",
      "Action: emotion: 100%|███████████████████████████████████████████████████████████████████| 1/1 [00:00<00:00, 11.02it/s]\n"
     ]
    },
    {
     "name": "stdout",
     "output_type": "stream",
     "text": [
      "[{'emotion': {'angry': 1.6884185373783112, 'disgust': 2.292214418275762e-07, 'fear': 53.5516619682312, 'happy': 0.0022750749849365093, 'sad': 26.520639657974243, 'surprise': 0.0013474720617523417, 'neutral': 18.23565512895584}, 'dominant_emotion': 'fear', 'region': {'x': 741, 'y': 697, 'w': 323, 'h': 323}}, {'emotion': {'angry': 0.3086513092310017, 'disgust': 0.0001537752246602514, 'fear': 33.51562818978001, 'happy': 0.17876762332499763, 'sad': 8.612809843588462, 'surprise': 42.60373369477592, 'neutral': 14.78025405289257}, 'dominant_emotion': 'surprise', 'region': {'x': 671, 'y': 200, 'w': 564, 'h': 564}}]\n"
     ]
    },
    {
     "name": "stderr",
     "output_type": "stream",
     "text": [
      "Action: emotion: 100%|███████████████████████████████████████████████████████████████████| 1/1 [00:00<00:00,  9.64it/s]\n",
      "Action: emotion: 100%|███████████████████████████████████████████████████████████████████| 1/1 [00:00<00:00, 11.39it/s]\n"
     ]
    },
    {
     "name": "stdout",
     "output_type": "stream",
     "text": [
      "[{'emotion': {'angry': 1.0976606979966164, 'disgust': 5.875162578661275e-08, 'fear': 60.575151443481445, 'happy': 0.0008451863322989084, 'sad': 20.445556938648224, 'surprise': 0.0008340350177604705, 'neutral': 17.879952490329742}, 'dominant_emotion': 'fear', 'region': {'x': 739, 'y': 695, 'w': 327, 'h': 327}}, {'emotion': {'angry': 0.13291750801727176, 'disgust': 0.0836852821521461, 'fear': 56.59080147743225, 'happy': 0.04440386546775699, 'sad': 30.278366804122925, 'surprise': 0.0005622721346298931, 'neutral': 12.869267165660858}, 'dominant_emotion': 'fear', 'region': {'x': 677, 'y': 207, 'w': 555, 'h': 555}}]\n"
     ]
    },
    {
     "name": "stderr",
     "output_type": "stream",
     "text": [
      "Action: emotion: 100%|███████████████████████████████████████████████████████████████████| 1/1 [00:00<00:00, 12.53it/s]\n",
      "Action: emotion: 100%|███████████████████████████████████████████████████████████████████| 1/1 [00:00<00:00, 10.45it/s]\n"
     ]
    },
    {
     "name": "stdout",
     "output_type": "stream",
     "text": [
      "[{'emotion': {'angry': 2.5350768119096756, 'disgust': 4.2633527819191386e-07, 'fear': 40.77889621257782, 'happy': 0.00036304500099504367, 'sad': 46.43335044384003, 'surprise': 0.0006309218406386208, 'neutral': 10.251682251691818}, 'dominant_emotion': 'sad', 'region': {'x': 745, 'y': 702, 'w': 315, 'h': 315}}, {'emotion': {'angry': 0.2418952528387308, 'disgust': 0.0010451478374307044, 'fear': 7.798930257558823, 'happy': 0.0705393438693136, 'sad': 52.28107571601868, 'surprise': 0.32946730498224497, 'neutral': 39.27704989910126}, 'dominant_emotion': 'sad', 'region': {'x': 673, 'y': 205, 'w': 561, 'h': 561}}]\n"
     ]
    },
    {
     "name": "stderr",
     "output_type": "stream",
     "text": [
      "Action: emotion: 100%|███████████████████████████████████████████████████████████████████| 1/1 [00:00<00:00, 11.94it/s]\n",
      "Action: emotion: 100%|███████████████████████████████████████████████████████████████████| 1/1 [00:00<00:00, 11.14it/s]\n"
     ]
    },
    {
     "name": "stdout",
     "output_type": "stream",
     "text": [
      "[{'emotion': {'angry': 3.302347266394226, 'disgust': 5.624730232744112e-07, 'fear': 47.46791154528719, 'happy': 0.0008932200061498109, 'sad': 37.78493550003344, 'surprise': 0.0013890502650014274, 'neutral': 11.442519850430507}, 'dominant_emotion': 'fear', 'region': {'x': 743, 'y': 702, 'w': 315, 'h': 315}}, {'emotion': {'angry': 0.49365727527824343, 'disgust': 0.00042784832301452787, 'fear': 7.173270097168696, 'happy': 0.014192868784710023, 'sad': 27.16092493068277, 'surprise': 0.1905975508470894, 'neutral': 64.96693074309}, 'dominant_emotion': 'neutral', 'region': {'x': 675, 'y': 205, 'w': 562, 'h': 562}}]\n"
     ]
    }
   ],
   "source": [
    "# 얼굴을 찾고 찾은 얼굴에 표시를 해주기 위한 변수 정의\n",
    "mp_face_detection = mp.solutions.face_detection # 얼굴 검출을 위한 face_detection 모듈 사용\n",
    "mp_drawing = mp.solutions.drawing_utils # 얼굴 특징 그리기 위한 drawiong_utils 모듈 사용\n",
    "\n",
    "\n",
    "# 동영상 파일 열기\n",
    "# cap = cv2.VideoCapture(0) # 웹캠에서 작업\n",
    "cap = cv2.VideoCapture('C:/Users/LIM HAYOUNG/Desktop/test_video.m2ts')\n",
    "\n",
    "# model_selection : 0(카메라로부터 2m 이내 근거리 영상) or 1(5m 이내 거리 영상)\n",
    "# min_detection_confidence : 얼굴 신뢰도 정도\n",
    "\n",
    "with mp_face_detection.FaceDetection(\n",
    "    model_selection=0, min_detection_confidence=0.7) as face_detection:\n",
    "    while cap.isOpened():\n",
    "        success, image = cap.read() \n",
    "        if not success:\n",
    "\n",
    "            break\n",
    "\n",
    "        # To improve performance, optionally mark the image as not writeable to\n",
    "        # pass by reference.\n",
    "        image.flags.writeable = False\n",
    "        image = cv2.cvtColor(image, cv2.COLOR_BGR2RGB)\n",
    "\n",
    "        # Draw the face detection annotations on the image.\n",
    "        image.flags.writeable = True\n",
    "        image = cv2.cvtColor(image, cv2.COLOR_RGB2BGR)\n",
    "\n",
    "        # deepface\n",
    "        try : \n",
    "            deepface_pred = DeepFace.analyze(image, actions = ['emotion'])\n",
    "            print(deepface_pred)\n",
    "        except :\n",
    "            continue\n",
    "        \n",
    "        \n",
    "        rank_emotion = sorted(deepface_pred[0]['emotion'].items(),key = lambda item: item[1],reverse = True)    \n",
    "        cv2.putText(image,str(rank_emotion[0]),(real_bbox['xmin'],real_bbox['ymin']),font,1,(255,0,0),2)\n",
    "        cv2.imshow('MediaPipe Face Detection', cv2.resize(image, None, fx=0.5, fy =0.5))\n",
    "        \n",
    "        #if cv2.waitKey(5) & 0xFF == 27:\n",
    "        if cv2.waitKey(1) == ord('q'): # 'q' 누르면 정지\n",
    "            breakq\n",
    "            \n",
    "cap.release()\n",
    "cv2.destroyAllWindows()"
   ]
  },
  {
   "cell_type": "code",
   "execution_count": 86,
   "id": "d0fc018a",
   "metadata": {},
   "outputs": [
    {
     "data": {
      "text/plain": [
       "\"('sad', 43.88934373855591)\""
      ]
     },
     "execution_count": 86,
     "metadata": {},
     "output_type": "execute_result"
    }
   ],
   "source": [
    "str(rank_emotion[0])"
   ]
  },
  {
   "cell_type": "code",
   "execution_count": null,
   "id": "4ecc3e85",
   "metadata": {},
   "outputs": [],
   "source": []
  }
 ],
 "metadata": {
  "kernelspec": {
   "display_name": "Python 3 (ipykernel)",
   "language": "python",
   "name": "python3"
  },
  "language_info": {
   "codemirror_mode": {
    "name": "ipython",
    "version": 3
   },
   "file_extension": ".py",
   "mimetype": "text/x-python",
   "name": "python",
   "nbconvert_exporter": "python",
   "pygments_lexer": "ipython3",
   "version": "3.9.12"
  }
 },
 "nbformat": 4,
 "nbformat_minor": 5
}
