{
 "cells": [
  {
   "cell_type": "code",
   "execution_count": 15,
   "id": "edf7ac45",
   "metadata": {},
   "outputs": [
    {
     "name": "stdout",
     "output_type": "stream",
     "text": [
      "Collecting SpeechRecognition\n",
      "  Using cached SpeechRecognition-3.10.0-py2.py3-none-any.whl (32.8 MB)\n",
      "Requirement already satisfied: pydub in c:\\users\\won45\\appdata\\local\\programs\\python\\python39\\lib\\site-packages (0.25.1)\n",
      "Requirement already satisfied: requests>=2.26.0 in c:\\users\\won45\\appdata\\local\\programs\\python\\python39\\lib\\site-packages (from SpeechRecognition) (2.28.2)\n",
      "Requirement already satisfied: charset-normalizer<4,>=2 in c:\\users\\won45\\appdata\\local\\programs\\python\\python39\\lib\\site-packages (from requests>=2.26.0->SpeechRecognition) (3.1.0)\n",
      "Requirement already satisfied: idna<4,>=2.5 in c:\\users\\won45\\appdata\\local\\programs\\python\\python39\\lib\\site-packages (from requests>=2.26.0->SpeechRecognition) (3.4)\n",
      "Requirement already satisfied: urllib3<1.27,>=1.21.1 in c:\\users\\won45\\appdata\\local\\programs\\python\\python39\\lib\\site-packages (from requests>=2.26.0->SpeechRecognition) (1.26.15)\n",
      "Requirement already satisfied: certifi>=2017.4.17 in c:\\users\\won45\\appdata\\local\\programs\\python\\python39\\lib\\site-packages (from requests>=2.26.0->SpeechRecognition) (2022.12.7)\n",
      "Installing collected packages: SpeechRecognition\n",
      "Successfully installed SpeechRecognition-3.10.0\n"
     ]
    }
   ],
   "source": [
    "!pip3 install SpeechRecognition pydub"
   ]
  },
  {
   "cell_type": "code",
   "execution_count": 26,
   "id": "ed6b97fe",
   "metadata": {},
   "outputs": [
    {
     "data": {
      "text/plain": [
       "'C:\\\\Users\\\\won45\\\\MER\\\\wav\\\\076-168~'"
      ]
     },
     "execution_count": 26,
     "metadata": {},
     "output_type": "execute_result"
    }
   ],
   "source": [
    "os.chdir('C:/Users/won45/MER/wav/')\n",
    "os.getcwd()"
   ]
  },
  {
   "cell_type": "code",
   "execution_count": 27,
   "id": "0f1341ca",
   "metadata": {},
   "outputs": [
    {
     "name": "stdout",
     "output_type": "stream",
     "text": [
      "081-186 변환 실패\n",
      "084-091 변환 실패\n",
      "086-089 변환 실패\n",
      "090-089 변환 실패\n"
     ]
    }
   ],
   "source": [
    "import speech_recognition as sr\n",
    "import os\n",
    "from pydub import AudioSegment\n",
    "\n",
    "r = sr.Recognizer()\n",
    "\n",
    "file_list = os.listdir()\n",
    "    \n",
    "for i in file_list:\n",
    "    name, ext = os.path.splitext(i)\n",
    "    harvard_audio = sr.AudioFile(name+\".wav\")\n",
    "    with harvard_audio as source:\n",
    "         audio = r.record(source)\n",
    "\n",
    "    try:\n",
    "        text = r.recognize_google(audio, language='ko-KR')\n",
    "        f = open(name+\".txt\", 'w')\n",
    "        f.write(text)\n",
    "        f.close()\n",
    "        #print(name+\" 변환 성공\")\n",
    "    except sr.UnknownValueError:\n",
    "        print(name+\" 변환 실패\")"
   ]
  }
 ],
 "metadata": {
  "kernelspec": {
   "display_name": "Python 3 (ipykernel)",
   "language": "python",
   "name": "python3"
  },
  "language_info": {
   "codemirror_mode": {
    "name": "ipython",
    "version": 3
   },
   "file_extension": ".py",
   "mimetype": "text/x-python",
   "name": "python",
   "nbconvert_exporter": "python",
   "pygments_lexer": "ipython3",
   "version": "3.9.7"
  }
 },
 "nbformat": 4,
 "nbformat_minor": 5
}
